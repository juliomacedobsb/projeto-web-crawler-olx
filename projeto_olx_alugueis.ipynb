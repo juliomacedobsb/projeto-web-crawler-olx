{
  "nbformat": 4,
  "nbformat_minor": 0,
  "metadata": {
    "colab": {
      "provenance": [],
      "authorship_tag": "ABX9TyPp4YJ5es0pBoljw2f0Bpe/"
    },
    "kernelspec": {
      "name": "python3",
      "display_name": "Python 3"
    },
    "language_info": {
      "name": "python"
    }
  },
  "cells": [
    {
      "cell_type": "code",
      "execution_count": 1,
      "metadata": {
        "id": "OtgSJkfaIXPJ"
      },
      "outputs": [],
      "source": [
        "import requests as rq\n",
        "from bs4 import BeautifulSoup as bs\n",
        "import pandas as pd\n",
        "import numpy as np                                        \n",
        "import matplotlib.pyplot as plt"
      ]
    },
    {
      "cell_type": "code",
      "source": [
        "headers = ({'User-Agent' : 'Mozilla/5.0 (X11; Ubuntu; Linux x86_64; rv:102.0) Gecko/20100101 Firefox/102.0'})\n",
        "url = 'https://df.olx.com.br/imoveis/aluguel'\n",
        "response = rq.get(url,  headers=headers)\n",
        "content = response.content\n",
        "\n",
        "site = bs(content, 'html.parser')"
      ],
      "metadata": {
        "id": "1zVV7c27IYbb"
      },
      "execution_count": 2,
      "outputs": []
    },
    {
      "cell_type": "code",
      "source": [
        "l = site.find('div', class_='sc-EHOje gpDieb')\n",
        "\n",
        "paginas = []\n",
        "\n",
        "\n",
        "for item in l.find_all('a'):\n",
        "  paginas.append(item['href'])\n",
        "paginas"
      ],
      "metadata": {
        "colab": {
          "base_uri": "https://localhost:8080/"
        },
        "id": "JEoEaOfvIa9D",
        "outputId": "5bdd69fc-714c-4007-be01-983115cbf353"
      },
      "execution_count": 3,
      "outputs": [
        {
          "output_type": "execute_result",
          "data": {
            "text/plain": [
              "['https://df.olx.com.br/imoveis/aluguel?o=2',\n",
              " 'https://df.olx.com.br/imoveis/aluguel?o=3',\n",
              " 'https://df.olx.com.br/imoveis/aluguel?o=4',\n",
              " 'https://df.olx.com.br/imoveis/aluguel?o=5',\n",
              " 'https://df.olx.com.br/imoveis/aluguel?o=6',\n",
              " 'https://df.olx.com.br/imoveis/aluguel?o=7',\n",
              " 'https://df.olx.com.br/imoveis/aluguel?o=8',\n",
              " 'https://df.olx.com.br/imoveis/aluguel?o=9',\n",
              " 'https://df.olx.com.br/imoveis/aluguel?o=10',\n",
              " 'https://df.olx.com.br/imoveis/aluguel?o=2']"
            ]
          },
          "metadata": {},
          "execution_count": 3
        }
      ]
    },
    {
      "cell_type": "code",
      "source": [
        "titulos = []\n",
        "links = []\n",
        "valores = []\n",
        "\n",
        "\n",
        "itens = site.find('ul', id='ad-list')\n",
        "for pagina in paginas:\n",
        "  for item in itens.find_all('a'):\n",
        "    links.append(item['href'])\n",
        "  else:\n",
        "    links.append('') "
      ],
      "metadata": {
        "id": "aCgvljRLId05"
      },
      "execution_count": 4,
      "outputs": []
    },
    {
      "cell_type": "code",
      "source": [
        "itens = site.find('ul', id='ad-list')\n",
        "for pagina in paginas:\n",
        "  for item in itens.find_all('a'):\n",
        "    titulos.append(item['title'])\n",
        "  else:\n",
        "    titulos.append('')"
      ],
      "metadata": {
        "id": "0hBEj9uZIg5f"
      },
      "execution_count": 5,
      "outputs": []
    },
    {
      "cell_type": "code",
      "source": [
        "valores = []\n",
        "\n",
        "\n",
        "itens = site.find('ul', id='ad-list')\n",
        "for pagina in paginas:\n",
        "  for item in itens.find_all('div', class_='sc-1kn4z61-1 dGMPPn'):\n",
        "    valores.append(item.text)\n",
        "  else:\n",
        "    valores.append('') "
      ],
      "metadata": {
        "id": "jF9NTUQRIji_"
      },
      "execution_count": 6,
      "outputs": []
    },
    {
      "cell_type": "code",
      "source": [
        "localizacao = []\n",
        "\n",
        "\n",
        "itens = site.find('ul', id='ad-list')\n",
        "for pagina in paginas:\n",
        "\n",
        "  for item in itens.find_all('span', class_='sc-1c3ysll-1 cLQXSQ sc-ifAKCX fCbscF'):\n",
        "    localizacao.append(item['title'])\n",
        "  else:\n",
        "    localizacao.append('') "
      ],
      "metadata": {
        "id": "n7Q4FScbInDN"
      },
      "execution_count": 7,
      "outputs": []
    },
    {
      "cell_type": "code",
      "source": [
        "data = []\n",
        "\n",
        "itens = site.find('ul', id='ad-list')\n",
        "for pagina in paginas:\n",
        "\n",
        "\n",
        "  \n",
        "    for item in itens.find_all('span', class_='sc-11h4wdr-0 javKJU sc-ifAKCX fCbscF'):\n",
        "      data.append(item['aria-label'])\n",
        "    else:\n",
        "      data.append('')  "
      ],
      "metadata": {
        "id": "tGVZ6PIrIpxP"
      },
      "execution_count": 8,
      "outputs": []
    },
    {
      "cell_type": "code",
      "source": [
        "cond = []\n",
        "quartos = []\n",
        "metros = []\n",
        "\n",
        "itens = site.find('ul', id='ad-list')\n",
        "for pagina in paginas:\n",
        "  for item in itens.find_all('span', class_='sc-1ftm7qz-0 doofcG sc-ifAKCX fCbscF'):\n",
        "      if 'Condomínio' in str(item.text):\n",
        "        cond.append(item.text)  \n",
        "      elif '' in str(item.text):\n",
        "        cond.append('')"
      ],
      "metadata": {
        "id": "sxtU1mtUIsqO"
      },
      "execution_count": 9,
      "outputs": []
    },
    {
      "cell_type": "code",
      "source": [
        "cond = []\n",
        "itens = site.find('ul', id='ad-list')\n",
        "for pagina in paginas:\n",
        "  for item in itens.find_all('span', class_='sc-1ftm7qz-0 doofcG sc-ifAKCX fCbscF'):\n",
        "      if 'Condomínio' in str(item.text):\n",
        "        cond.append(item.text)\n",
        "      else:\n",
        "        cond.append('')  "
      ],
      "metadata": {
        "id": "HJ1OT0UZIun0"
      },
      "execution_count": 10,
      "outputs": []
    },
    {
      "cell_type": "code",
      "source": [
        "quartos = []\n",
        "itens = site.find('ul', id='ad-list')\n",
        "for pagina in paginas:\n",
        "  for item in itens.find_all('span', class_='sc-1ftm7qz-0 doofcG sc-ifAKCX fCbscF'):\n",
        "      if 'quartos' in str(item.text):\n",
        "        quartos.append(item.text)  \n",
        "      elif '' in str(item.text):\n",
        "        quartos.append('')"
      ],
      "metadata": {
        "id": "RjLVhxcKIxBt"
      },
      "execution_count": 11,
      "outputs": []
    },
    {
      "cell_type": "code",
      "source": [
        "metros = []\n",
        "itens = site.find('ul', id='ad-list')\n",
        "for pagina in paginas:\n",
        "  for item in itens.find_all('span', class_='sc-1ftm7qz-0 doofcG sc-ifAKCX fCbscF'):\n",
        "      if 'm²' in str(item.text):\n",
        "        metros.append(item.text)\n",
        "        \n",
        "      else:\n",
        "        metros.append('')  "
      ],
      "metadata": {
        "id": "fnrCPerJ6Znk"
      },
      "execution_count": 12,
      "outputs": []
    },
    {
      "cell_type": "code",
      "source": [
        "metros = []\n",
        "quartos = []\n",
        "cond = []\n",
        "\n",
        "itens = site.find('ul', id='ad-list')\n",
        "for pagina in paginas:\n",
        "  for item in itens.find_all('span', class_='sc-1ftm7qz-0 doofcG sc-ifAKCX fCbscF'):\n",
        "      if 'm²' in str(item.text):\n",
        "        metros.append(item.text)\n",
        "      elif 'quartos' in str(item.text):\n",
        "        quartos.append(item.text)\n",
        "      elif 'Condomínio' in str(item.text):\n",
        "        cond.append(item.text)\n",
        "          \n",
        "     \n",
        "\n",
        "     "
      ],
      "metadata": {
        "id": "DnrSjbBZftzt"
      },
      "execution_count": 21,
      "outputs": []
    },
    {
      "cell_type": "code",
      "source": [
        "len(valores)"
      ],
      "metadata": {
        "colab": {
          "base_uri": "https://localhost:8080/"
        },
        "id": "jFFVumcc6iiE",
        "outputId": "ae57735d-ff02-46e1-c821-9a8ef88c1e2e"
      },
      "execution_count": 14,
      "outputs": [
        {
          "output_type": "execute_result",
          "data": {
            "text/plain": [
              "510"
            ]
          },
          "metadata": {},
          "execution_count": 14
        }
      ]
    },
    {
      "cell_type": "code",
      "source": [
        "df = pd.DataFrame(list(zip(titulos, links, valores, localizacao, data, metros, quartos, cond,)),\n",
        "                  columns=['titulo', 'link', 'aluguel', 'localização', 'data de postagem', 'metragem', 'quartos', 'condominio' ])"
      ],
      "metadata": {
        "id": "sDblI5XTIzLq"
      },
      "execution_count": 22,
      "outputs": []
    },
    {
      "cell_type": "code",
      "source": [
        "df"
      ],
      "metadata": {
        "colab": {
          "base_uri": "https://localhost:8080/",
          "height": 641
        },
        "id": "QIGavASdfe7g",
        "outputId": "42b3a993-2b2f-4890-da9b-70b0dd958337"
      },
      "execution_count": 23,
      "outputs": [
        {
          "output_type": "execute_result",
          "data": {
            "text/plain": [
              "                                                titulo  \\\n",
              "0    Alugo apartamento 1 rua acima da prefeitura,em...   \n",
              "1    Apart totalmente reformado para aluguel tem 62...   \n",
              "2    Flat com 1 dormitório, 30 m² - venda por R$ 21...   \n",
              "3                         Aluguel casa  Valparaíso -Go   \n",
              "4                               Gama. Setor Sul. Q.  9   \n",
              "..                                                 ...   \n",
              "295  Apartamento com 2 dormitórios para alugar, 70 ...   \n",
              "296  Aluga-se Casa para Eventos, 1130 m² por R$ 19....   \n",
              "297  Locação Nova Kit Flat - Enxoval Completo, Serv...   \n",
              "298  Isla life style - apto 3 qtos nascente vista l...   \n",
              "299                               CCSW 3 - Unique Club   \n",
              "\n",
              "                                                  link    aluguel  \\\n",
              "0    https://df.olx.com.br/distrito-federal-e-regia...   R$ 1.100   \n",
              "1    https://df.olx.com.br/distrito-federal-e-regia...   R$ 1.500   \n",
              "2    https://df.olx.com.br/distrito-federal-e-regia...   R$ 1.800   \n",
              "3    https://df.olx.com.br/distrito-federal-e-regia...     R$ 800   \n",
              "4    https://df.olx.com.br/distrito-federal-e-regia...              \n",
              "..                                                 ...        ...   \n",
              "295  https://df.olx.com.br/distrito-federal-e-regia...   R$ 1.200   \n",
              "296  https://df.olx.com.br/distrito-federal-e-regia...  R$ 19.000   \n",
              "297  https://df.olx.com.br/distrito-federal-e-regia...   R$ 3.100   \n",
              "298  https://df.olx.com.br/distrito-federal-e-regia...   R$ 4.250   \n",
              "299  https://df.olx.com.br/distrito-federal-e-regia...   R$ 5.300   \n",
              "\n",
              "                                           localização  \\\n",
              "0                            Luziânia, Centro - DDD 61   \n",
              "1                        Brasília, Sobradinho - DDD 61   \n",
              "2                Brasília, Sul (Águas Claras) - DDD 61   \n",
              "3    Valparaíso de Goiás, Cidade Jardins - Etapa B ...   \n",
              "4                  Brasília, Setor Sul (Gama) - DDD 61   \n",
              "..                                                 ...   \n",
              "295                 Brasília, Riacho Fundo II - DDD 61   \n",
              "296                        Brasília, Park Way - DDD 61   \n",
              "297                  Brasília, Setor Sudoeste - DDD 61   \n",
              "298                        Brasília, Guará II - DDD 61   \n",
              "299                  Brasília, Setor Sudoeste - DDD 61   \n",
              "\n",
              "                       data de postagem metragem    quartos  \\\n",
              "0    Anúncio publicado em: Hoje, 19:27.     70m²  2 quartos   \n",
              "1    Anúncio publicado em: Hoje, 19:24.     62m²  2 quartos   \n",
              "2    Anúncio publicado em: Hoje, 19:22.     30m²  2 quartos   \n",
              "3    Anúncio publicado em: Hoje, 19:22.    700m²  3 quartos   \n",
              "4    Anúncio publicado em: Hoje, 19:22.     30m²  4 quartos   \n",
              "..                                  ...      ...        ...   \n",
              "295  Anúncio publicado em: Hoje, 17:52.     26m²  2 quartos   \n",
              "296  Anúncio publicado em: Hoje, 17:52.     92m²  2 quartos   \n",
              "297  Anúncio publicado em: Hoje, 17:49.     75m²  2 quartos   \n",
              "298  Anúncio publicado em: Hoje, 17:41.     73m²  3 quartos   \n",
              "299  Anúncio publicado em: Hoje, 17:39.     32m²  2 quartos   \n",
              "\n",
              "             condominio  \n",
              "0      Condomínio: R$ 0  \n",
              "1      Condomínio: R$ 0  \n",
              "2      Condomínio: R$ 0  \n",
              "3      Condomínio: R$ 0  \n",
              "4      Condomínio: R$ 0  \n",
              "..                  ...  \n",
              "295  Condomínio: R$ 409  \n",
              "296  Condomínio: R$ 590  \n",
              "297  Condomínio: R$ 950  \n",
              "298  Condomínio: R$ 651  \n",
              "299  Condomínio: R$ 417  \n",
              "\n",
              "[300 rows x 8 columns]"
            ],
            "text/html": [
              "\n",
              "  <div id=\"df-f5101db1-5810-45de-aab6-5445355ebcba\">\n",
              "    <div class=\"colab-df-container\">\n",
              "      <div>\n",
              "<style scoped>\n",
              "    .dataframe tbody tr th:only-of-type {\n",
              "        vertical-align: middle;\n",
              "    }\n",
              "\n",
              "    .dataframe tbody tr th {\n",
              "        vertical-align: top;\n",
              "    }\n",
              "\n",
              "    .dataframe thead th {\n",
              "        text-align: right;\n",
              "    }\n",
              "</style>\n",
              "<table border=\"1\" class=\"dataframe\">\n",
              "  <thead>\n",
              "    <tr style=\"text-align: right;\">\n",
              "      <th></th>\n",
              "      <th>titulo</th>\n",
              "      <th>link</th>\n",
              "      <th>aluguel</th>\n",
              "      <th>localização</th>\n",
              "      <th>data de postagem</th>\n",
              "      <th>metragem</th>\n",
              "      <th>quartos</th>\n",
              "      <th>condominio</th>\n",
              "    </tr>\n",
              "  </thead>\n",
              "  <tbody>\n",
              "    <tr>\n",
              "      <th>0</th>\n",
              "      <td>Alugo apartamento 1 rua acima da prefeitura,em...</td>\n",
              "      <td>https://df.olx.com.br/distrito-federal-e-regia...</td>\n",
              "      <td>R$ 1.100</td>\n",
              "      <td>Luziânia, Centro - DDD 61</td>\n",
              "      <td>Anúncio publicado em: Hoje, 19:27.</td>\n",
              "      <td>70m²</td>\n",
              "      <td>2 quartos</td>\n",
              "      <td>Condomínio: R$ 0</td>\n",
              "    </tr>\n",
              "    <tr>\n",
              "      <th>1</th>\n",
              "      <td>Apart totalmente reformado para aluguel tem 62...</td>\n",
              "      <td>https://df.olx.com.br/distrito-federal-e-regia...</td>\n",
              "      <td>R$ 1.500</td>\n",
              "      <td>Brasília, Sobradinho - DDD 61</td>\n",
              "      <td>Anúncio publicado em: Hoje, 19:24.</td>\n",
              "      <td>62m²</td>\n",
              "      <td>2 quartos</td>\n",
              "      <td>Condomínio: R$ 0</td>\n",
              "    </tr>\n",
              "    <tr>\n",
              "      <th>2</th>\n",
              "      <td>Flat com 1 dormitório, 30 m² - venda por R$ 21...</td>\n",
              "      <td>https://df.olx.com.br/distrito-federal-e-regia...</td>\n",
              "      <td>R$ 1.800</td>\n",
              "      <td>Brasília, Sul (Águas Claras) - DDD 61</td>\n",
              "      <td>Anúncio publicado em: Hoje, 19:22.</td>\n",
              "      <td>30m²</td>\n",
              "      <td>2 quartos</td>\n",
              "      <td>Condomínio: R$ 0</td>\n",
              "    </tr>\n",
              "    <tr>\n",
              "      <th>3</th>\n",
              "      <td>Aluguel casa  Valparaíso -Go</td>\n",
              "      <td>https://df.olx.com.br/distrito-federal-e-regia...</td>\n",
              "      <td>R$ 800</td>\n",
              "      <td>Valparaíso de Goiás, Cidade Jardins - Etapa B ...</td>\n",
              "      <td>Anúncio publicado em: Hoje, 19:22.</td>\n",
              "      <td>700m²</td>\n",
              "      <td>3 quartos</td>\n",
              "      <td>Condomínio: R$ 0</td>\n",
              "    </tr>\n",
              "    <tr>\n",
              "      <th>4</th>\n",
              "      <td>Gama. Setor Sul. Q.  9</td>\n",
              "      <td>https://df.olx.com.br/distrito-federal-e-regia...</td>\n",
              "      <td></td>\n",
              "      <td>Brasília, Setor Sul (Gama) - DDD 61</td>\n",
              "      <td>Anúncio publicado em: Hoje, 19:22.</td>\n",
              "      <td>30m²</td>\n",
              "      <td>4 quartos</td>\n",
              "      <td>Condomínio: R$ 0</td>\n",
              "    </tr>\n",
              "    <tr>\n",
              "      <th>...</th>\n",
              "      <td>...</td>\n",
              "      <td>...</td>\n",
              "      <td>...</td>\n",
              "      <td>...</td>\n",
              "      <td>...</td>\n",
              "      <td>...</td>\n",
              "      <td>...</td>\n",
              "      <td>...</td>\n",
              "    </tr>\n",
              "    <tr>\n",
              "      <th>295</th>\n",
              "      <td>Apartamento com 2 dormitórios para alugar, 70 ...</td>\n",
              "      <td>https://df.olx.com.br/distrito-federal-e-regia...</td>\n",
              "      <td>R$ 1.200</td>\n",
              "      <td>Brasília, Riacho Fundo II - DDD 61</td>\n",
              "      <td>Anúncio publicado em: Hoje, 17:52.</td>\n",
              "      <td>26m²</td>\n",
              "      <td>2 quartos</td>\n",
              "      <td>Condomínio: R$ 409</td>\n",
              "    </tr>\n",
              "    <tr>\n",
              "      <th>296</th>\n",
              "      <td>Aluga-se Casa para Eventos, 1130 m² por R$ 19....</td>\n",
              "      <td>https://df.olx.com.br/distrito-federal-e-regia...</td>\n",
              "      <td>R$ 19.000</td>\n",
              "      <td>Brasília, Park Way - DDD 61</td>\n",
              "      <td>Anúncio publicado em: Hoje, 17:52.</td>\n",
              "      <td>92m²</td>\n",
              "      <td>2 quartos</td>\n",
              "      <td>Condomínio: R$ 590</td>\n",
              "    </tr>\n",
              "    <tr>\n",
              "      <th>297</th>\n",
              "      <td>Locação Nova Kit Flat - Enxoval Completo, Serv...</td>\n",
              "      <td>https://df.olx.com.br/distrito-federal-e-regia...</td>\n",
              "      <td>R$ 3.100</td>\n",
              "      <td>Brasília, Setor Sudoeste - DDD 61</td>\n",
              "      <td>Anúncio publicado em: Hoje, 17:49.</td>\n",
              "      <td>75m²</td>\n",
              "      <td>2 quartos</td>\n",
              "      <td>Condomínio: R$ 950</td>\n",
              "    </tr>\n",
              "    <tr>\n",
              "      <th>298</th>\n",
              "      <td>Isla life style - apto 3 qtos nascente vista l...</td>\n",
              "      <td>https://df.olx.com.br/distrito-federal-e-regia...</td>\n",
              "      <td>R$ 4.250</td>\n",
              "      <td>Brasília, Guará II - DDD 61</td>\n",
              "      <td>Anúncio publicado em: Hoje, 17:41.</td>\n",
              "      <td>73m²</td>\n",
              "      <td>3 quartos</td>\n",
              "      <td>Condomínio: R$ 651</td>\n",
              "    </tr>\n",
              "    <tr>\n",
              "      <th>299</th>\n",
              "      <td>CCSW 3 - Unique Club</td>\n",
              "      <td>https://df.olx.com.br/distrito-federal-e-regia...</td>\n",
              "      <td>R$ 5.300</td>\n",
              "      <td>Brasília, Setor Sudoeste - DDD 61</td>\n",
              "      <td>Anúncio publicado em: Hoje, 17:39.</td>\n",
              "      <td>32m²</td>\n",
              "      <td>2 quartos</td>\n",
              "      <td>Condomínio: R$ 417</td>\n",
              "    </tr>\n",
              "  </tbody>\n",
              "</table>\n",
              "<p>300 rows × 8 columns</p>\n",
              "</div>\n",
              "      <button class=\"colab-df-convert\" onclick=\"convertToInteractive('df-f5101db1-5810-45de-aab6-5445355ebcba')\"\n",
              "              title=\"Convert this dataframe to an interactive table.\"\n",
              "              style=\"display:none;\">\n",
              "        \n",
              "  <svg xmlns=\"http://www.w3.org/2000/svg\" height=\"24px\"viewBox=\"0 0 24 24\"\n",
              "       width=\"24px\">\n",
              "    <path d=\"M0 0h24v24H0V0z\" fill=\"none\"/>\n",
              "    <path d=\"M18.56 5.44l.94 2.06.94-2.06 2.06-.94-2.06-.94-.94-2.06-.94 2.06-2.06.94zm-11 1L8.5 8.5l.94-2.06 2.06-.94-2.06-.94L8.5 2.5l-.94 2.06-2.06.94zm10 10l.94 2.06.94-2.06 2.06-.94-2.06-.94-.94-2.06-.94 2.06-2.06.94z\"/><path d=\"M17.41 7.96l-1.37-1.37c-.4-.4-.92-.59-1.43-.59-.52 0-1.04.2-1.43.59L10.3 9.45l-7.72 7.72c-.78.78-.78 2.05 0 2.83L4 21.41c.39.39.9.59 1.41.59.51 0 1.02-.2 1.41-.59l7.78-7.78 2.81-2.81c.8-.78.8-2.07 0-2.86zM5.41 20L4 18.59l7.72-7.72 1.47 1.35L5.41 20z\"/>\n",
              "  </svg>\n",
              "      </button>\n",
              "      \n",
              "  <style>\n",
              "    .colab-df-container {\n",
              "      display:flex;\n",
              "      flex-wrap:wrap;\n",
              "      gap: 12px;\n",
              "    }\n",
              "\n",
              "    .colab-df-convert {\n",
              "      background-color: #E8F0FE;\n",
              "      border: none;\n",
              "      border-radius: 50%;\n",
              "      cursor: pointer;\n",
              "      display: none;\n",
              "      fill: #1967D2;\n",
              "      height: 32px;\n",
              "      padding: 0 0 0 0;\n",
              "      width: 32px;\n",
              "    }\n",
              "\n",
              "    .colab-df-convert:hover {\n",
              "      background-color: #E2EBFA;\n",
              "      box-shadow: 0px 1px 2px rgba(60, 64, 67, 0.3), 0px 1px 3px 1px rgba(60, 64, 67, 0.15);\n",
              "      fill: #174EA6;\n",
              "    }\n",
              "\n",
              "    [theme=dark] .colab-df-convert {\n",
              "      background-color: #3B4455;\n",
              "      fill: #D2E3FC;\n",
              "    }\n",
              "\n",
              "    [theme=dark] .colab-df-convert:hover {\n",
              "      background-color: #434B5C;\n",
              "      box-shadow: 0px 1px 3px 1px rgba(0, 0, 0, 0.15);\n",
              "      filter: drop-shadow(0px 1px 2px rgba(0, 0, 0, 0.3));\n",
              "      fill: #FFFFFF;\n",
              "    }\n",
              "  </style>\n",
              "\n",
              "      <script>\n",
              "        const buttonEl =\n",
              "          document.querySelector('#df-f5101db1-5810-45de-aab6-5445355ebcba button.colab-df-convert');\n",
              "        buttonEl.style.display =\n",
              "          google.colab.kernel.accessAllowed ? 'block' : 'none';\n",
              "\n",
              "        async function convertToInteractive(key) {\n",
              "          const element = document.querySelector('#df-f5101db1-5810-45de-aab6-5445355ebcba');\n",
              "          const dataTable =\n",
              "            await google.colab.kernel.invokeFunction('convertToInteractive',\n",
              "                                                     [key], {});\n",
              "          if (!dataTable) return;\n",
              "\n",
              "          const docLinkHtml = 'Like what you see? Visit the ' +\n",
              "            '<a target=\"_blank\" href=https://colab.research.google.com/notebooks/data_table.ipynb>data table notebook</a>'\n",
              "            + ' to learn more about interactive tables.';\n",
              "          element.innerHTML = '';\n",
              "          dataTable['output_type'] = 'display_data';\n",
              "          await google.colab.output.renderOutput(dataTable, element);\n",
              "          const docLink = document.createElement('div');\n",
              "          docLink.innerHTML = docLinkHtml;\n",
              "          element.appendChild(docLink);\n",
              "        }\n",
              "      </script>\n",
              "    </div>\n",
              "  </div>\n",
              "  "
            ]
          },
          "metadata": {},
          "execution_count": 23
        }
      ]
    },
    {
      "cell_type": "code",
      "source": [
        "df['aluguel'] = df['aluguel'].str.replace(r'\\D', '')\n",
        "df['condominio'] = df['condominio'].str.replace(r'\\D', '')\n",
        "df['metragem'] = df['metragem'].str.replace(r'\\D', '')\n",
        "df['quartos'] = df['quartos'].str.replace(r'\\D', '')\n",
        "\n"
      ],
      "metadata": {
        "colab": {
          "base_uri": "https://localhost:8080/"
        },
        "id": "vZsqDLHFI5t9",
        "outputId": "f8dc73cd-f75f-4042-d2ae-daceaf0f9c7e"
      },
      "execution_count": 28,
      "outputs": [
        {
          "output_type": "stream",
          "name": "stderr",
          "text": [
            "/usr/local/lib/python3.7/dist-packages/ipykernel_launcher.py:1: FutureWarning: The default value of regex will change from True to False in a future version.\n",
            "  \"\"\"Entry point for launching an IPython kernel.\n",
            "/usr/local/lib/python3.7/dist-packages/ipykernel_launcher.py:2: FutureWarning: The default value of regex will change from True to False in a future version.\n",
            "  \n",
            "/usr/local/lib/python3.7/dist-packages/ipykernel_launcher.py:3: FutureWarning: The default value of regex will change from True to False in a future version.\n",
            "  This is separate from the ipykernel package so we can avoid doing imports until\n",
            "/usr/local/lib/python3.7/dist-packages/ipykernel_launcher.py:4: FutureWarning: The default value of regex will change from True to False in a future version.\n",
            "  after removing the cwd from sys.path.\n"
          ]
        }
      ]
    },
    {
      "cell_type": "code",
      "source": [
        "df['condominio'] = pd.to_numeric(df['condominio'])\n",
        "df['metragem'] = pd.to_numeric(df['metragem'])\n",
        "df['aluguel'] = pd.to_numeric(df['aluguel'])\n",
        "df['quartos'] = pd.to_numeric(df['quartos'])\n"
      ],
      "metadata": {
        "id": "I0Mm9TinI9OX"
      },
      "execution_count": 29,
      "outputs": []
    },
    {
      "cell_type": "code",
      "source": [
        "df['valor total'] = df['aluguel'] + df['condominio']"
      ],
      "metadata": {
        "id": "ZKkzhV6sJA1l"
      },
      "execution_count": 30,
      "outputs": []
    },
    {
      "cell_type": "code",
      "source": [
        "df.head(100)"
      ],
      "metadata": {
        "colab": {
          "base_uri": "https://localhost:8080/",
          "height": 658
        },
        "id": "8KWnJCcX6DNh",
        "outputId": "e9fd575a-067e-43a1-a7a6-1e4adebe8365"
      },
      "execution_count": 31,
      "outputs": [
        {
          "output_type": "execute_result",
          "data": {
            "text/plain": [
              "                                               titulo  \\\n",
              "0   Apartamento com 1 dormitório para alugar, 55 m...   \n",
              "1          Incrível apartamento  01 quarto mobiliado    \n",
              "2                    Apartamento 02 quartos mobiliado   \n",
              "3          Alugo apt de 2 quarto na QI 31 do guara II   \n",
              "4                             Apto TaguaLife  Bloco F   \n",
              "..                                                ...   \n",
              "95                       Kit / Sala SCLN 214, bloco D   \n",
              "96                     Aluguel de casa em Brasília DF   \n",
              "97  Lindo e totalmente REFORMADO apartamento.  2 V...   \n",
              "98                        Lago Sul - casa para alugar   \n",
              "99  Apartamento para aluguel com 3 quartos em Tagu...   \n",
              "\n",
              "                                                 link  aluguel  \\\n",
              "0   https://df.olx.com.br/distrito-federal-e-regia...   1200.0   \n",
              "1   https://df.olx.com.br/distrito-federal-e-regia...   1900.0   \n",
              "2   https://df.olx.com.br/distrito-federal-e-regia...   3500.0   \n",
              "3   https://df.olx.com.br/distrito-federal-e-regia...   1650.0   \n",
              "4   https://df.olx.com.br/distrito-federal-e-regia...   1500.0   \n",
              "..                                                ...      ...   \n",
              "95  https://df.olx.com.br/distrito-federal-e-regia...    900.0   \n",
              "96  https://df.olx.com.br/distrito-federal-e-regia...    950.0   \n",
              "97  https://df.olx.com.br/distrito-federal-e-regia...   5050.0   \n",
              "98  https://df.olx.com.br/distrito-federal-e-regia...  55000.0   \n",
              "99  https://df.olx.com.br/distrito-federal-e-regia...   1300.0   \n",
              "\n",
              "                                         localização  \\\n",
              "0            Brasília, Areal (Águas Claras) - DDD 61   \n",
              "1              Brasília, Sul (Águas Claras) - DDD 61   \n",
              "2                 Brasília, Zona Industrial - DDD 61   \n",
              "3                        Brasília, Guará II - DDD 61   \n",
              "4     Brasília, Taguatinga Sul (Taguatinga) - DDD 61   \n",
              "..                                               ...   \n",
              "95                      Brasília, Asa Norte - DDD 61   \n",
              "96                       Brasília, Guará II - DDD 61   \n",
              "97                      Brasília, Asa Norte - DDD 61   \n",
              "98                        Brasília, Asa Sul - DDD 61   \n",
              "99  Brasília, Taguatinga Norte (Taguatinga) - DDD 61   \n",
              "\n",
              "                      data de postagem  metragem  quartos  condominio  \\\n",
              "0   Anúncio publicado em: Hoje, 12:11.       NaN      NaN         NaN   \n",
              "1   Anúncio publicado em: Hoje, 12:07.      55.0      NaN         NaN   \n",
              "2   Anúncio publicado em: Hoje, 12:06.       NaN      NaN         0.0   \n",
              "3   Anúncio publicado em: Hoje, 12:04.       NaN      NaN         NaN   \n",
              "4   Anúncio publicado em: Hoje, 12:04.      46.0      NaN         NaN   \n",
              "..                                 ...       ...      ...         ...   \n",
              "95  Anúncio publicado em: Hoje, 11:04.       NaN      NaN       530.0   \n",
              "96  Anúncio publicado em: Hoje, 11:02.       NaN      NaN         NaN   \n",
              "97  Anúncio publicado em: Hoje, 11:02.       NaN      3.0         NaN   \n",
              "98  Anúncio publicado em: Hoje, 11:00.     158.0      NaN         NaN   \n",
              "99  Anúncio publicado em: Hoje, 11:00.       NaN      NaN       180.0   \n",
              "\n",
              "    valor total  \n",
              "0           NaN  \n",
              "1           NaN  \n",
              "2        3500.0  \n",
              "3           NaN  \n",
              "4           NaN  \n",
              "..          ...  \n",
              "95       1430.0  \n",
              "96          NaN  \n",
              "97          NaN  \n",
              "98          NaN  \n",
              "99       1480.0  \n",
              "\n",
              "[100 rows x 9 columns]"
            ],
            "text/html": [
              "\n",
              "  <div id=\"df-5233a7f5-2d28-4a1c-8bf4-b8ee4e0bc6b4\">\n",
              "    <div class=\"colab-df-container\">\n",
              "      <div>\n",
              "<style scoped>\n",
              "    .dataframe tbody tr th:only-of-type {\n",
              "        vertical-align: middle;\n",
              "    }\n",
              "\n",
              "    .dataframe tbody tr th {\n",
              "        vertical-align: top;\n",
              "    }\n",
              "\n",
              "    .dataframe thead th {\n",
              "        text-align: right;\n",
              "    }\n",
              "</style>\n",
              "<table border=\"1\" class=\"dataframe\">\n",
              "  <thead>\n",
              "    <tr style=\"text-align: right;\">\n",
              "      <th></th>\n",
              "      <th>titulo</th>\n",
              "      <th>link</th>\n",
              "      <th>aluguel</th>\n",
              "      <th>localização</th>\n",
              "      <th>data de postagem</th>\n",
              "      <th>metragem</th>\n",
              "      <th>quartos</th>\n",
              "      <th>condominio</th>\n",
              "      <th>valor total</th>\n",
              "    </tr>\n",
              "  </thead>\n",
              "  <tbody>\n",
              "    <tr>\n",
              "      <th>0</th>\n",
              "      <td>Apartamento com 1 dormitório para alugar, 55 m...</td>\n",
              "      <td>https://df.olx.com.br/distrito-federal-e-regia...</td>\n",
              "      <td>1200.0</td>\n",
              "      <td>Brasília, Areal (Águas Claras) - DDD 61</td>\n",
              "      <td>Anúncio publicado em: Hoje, 12:11.</td>\n",
              "      <td>NaN</td>\n",
              "      <td>NaN</td>\n",
              "      <td>NaN</td>\n",
              "      <td>NaN</td>\n",
              "    </tr>\n",
              "    <tr>\n",
              "      <th>1</th>\n",
              "      <td>Incrível apartamento  01 quarto mobiliado</td>\n",
              "      <td>https://df.olx.com.br/distrito-federal-e-regia...</td>\n",
              "      <td>1900.0</td>\n",
              "      <td>Brasília, Sul (Águas Claras) - DDD 61</td>\n",
              "      <td>Anúncio publicado em: Hoje, 12:07.</td>\n",
              "      <td>55.0</td>\n",
              "      <td>NaN</td>\n",
              "      <td>NaN</td>\n",
              "      <td>NaN</td>\n",
              "    </tr>\n",
              "    <tr>\n",
              "      <th>2</th>\n",
              "      <td>Apartamento 02 quartos mobiliado</td>\n",
              "      <td>https://df.olx.com.br/distrito-federal-e-regia...</td>\n",
              "      <td>3500.0</td>\n",
              "      <td>Brasília, Zona Industrial - DDD 61</td>\n",
              "      <td>Anúncio publicado em: Hoje, 12:06.</td>\n",
              "      <td>NaN</td>\n",
              "      <td>NaN</td>\n",
              "      <td>0.0</td>\n",
              "      <td>3500.0</td>\n",
              "    </tr>\n",
              "    <tr>\n",
              "      <th>3</th>\n",
              "      <td>Alugo apt de 2 quarto na QI 31 do guara II</td>\n",
              "      <td>https://df.olx.com.br/distrito-federal-e-regia...</td>\n",
              "      <td>1650.0</td>\n",
              "      <td>Brasília, Guará II - DDD 61</td>\n",
              "      <td>Anúncio publicado em: Hoje, 12:04.</td>\n",
              "      <td>NaN</td>\n",
              "      <td>NaN</td>\n",
              "      <td>NaN</td>\n",
              "      <td>NaN</td>\n",
              "    </tr>\n",
              "    <tr>\n",
              "      <th>4</th>\n",
              "      <td>Apto TaguaLife  Bloco F</td>\n",
              "      <td>https://df.olx.com.br/distrito-federal-e-regia...</td>\n",
              "      <td>1500.0</td>\n",
              "      <td>Brasília, Taguatinga Sul (Taguatinga) - DDD 61</td>\n",
              "      <td>Anúncio publicado em: Hoje, 12:04.</td>\n",
              "      <td>46.0</td>\n",
              "      <td>NaN</td>\n",
              "      <td>NaN</td>\n",
              "      <td>NaN</td>\n",
              "    </tr>\n",
              "    <tr>\n",
              "      <th>...</th>\n",
              "      <td>...</td>\n",
              "      <td>...</td>\n",
              "      <td>...</td>\n",
              "      <td>...</td>\n",
              "      <td>...</td>\n",
              "      <td>...</td>\n",
              "      <td>...</td>\n",
              "      <td>...</td>\n",
              "      <td>...</td>\n",
              "    </tr>\n",
              "    <tr>\n",
              "      <th>95</th>\n",
              "      <td>Kit / Sala SCLN 214, bloco D</td>\n",
              "      <td>https://df.olx.com.br/distrito-federal-e-regia...</td>\n",
              "      <td>900.0</td>\n",
              "      <td>Brasília, Asa Norte - DDD 61</td>\n",
              "      <td>Anúncio publicado em: Hoje, 11:04.</td>\n",
              "      <td>NaN</td>\n",
              "      <td>NaN</td>\n",
              "      <td>530.0</td>\n",
              "      <td>1430.0</td>\n",
              "    </tr>\n",
              "    <tr>\n",
              "      <th>96</th>\n",
              "      <td>Aluguel de casa em Brasília DF</td>\n",
              "      <td>https://df.olx.com.br/distrito-federal-e-regia...</td>\n",
              "      <td>950.0</td>\n",
              "      <td>Brasília, Guará II - DDD 61</td>\n",
              "      <td>Anúncio publicado em: Hoje, 11:02.</td>\n",
              "      <td>NaN</td>\n",
              "      <td>NaN</td>\n",
              "      <td>NaN</td>\n",
              "      <td>NaN</td>\n",
              "    </tr>\n",
              "    <tr>\n",
              "      <th>97</th>\n",
              "      <td>Lindo e totalmente REFORMADO apartamento.  2 V...</td>\n",
              "      <td>https://df.olx.com.br/distrito-federal-e-regia...</td>\n",
              "      <td>5050.0</td>\n",
              "      <td>Brasília, Asa Norte - DDD 61</td>\n",
              "      <td>Anúncio publicado em: Hoje, 11:02.</td>\n",
              "      <td>NaN</td>\n",
              "      <td>3.0</td>\n",
              "      <td>NaN</td>\n",
              "      <td>NaN</td>\n",
              "    </tr>\n",
              "    <tr>\n",
              "      <th>98</th>\n",
              "      <td>Lago Sul - casa para alugar</td>\n",
              "      <td>https://df.olx.com.br/distrito-federal-e-regia...</td>\n",
              "      <td>55000.0</td>\n",
              "      <td>Brasília, Asa Sul - DDD 61</td>\n",
              "      <td>Anúncio publicado em: Hoje, 11:00.</td>\n",
              "      <td>158.0</td>\n",
              "      <td>NaN</td>\n",
              "      <td>NaN</td>\n",
              "      <td>NaN</td>\n",
              "    </tr>\n",
              "    <tr>\n",
              "      <th>99</th>\n",
              "      <td>Apartamento para aluguel com 3 quartos em Tagu...</td>\n",
              "      <td>https://df.olx.com.br/distrito-federal-e-regia...</td>\n",
              "      <td>1300.0</td>\n",
              "      <td>Brasília, Taguatinga Norte (Taguatinga) - DDD 61</td>\n",
              "      <td>Anúncio publicado em: Hoje, 11:00.</td>\n",
              "      <td>NaN</td>\n",
              "      <td>NaN</td>\n",
              "      <td>180.0</td>\n",
              "      <td>1480.0</td>\n",
              "    </tr>\n",
              "  </tbody>\n",
              "</table>\n",
              "<p>100 rows × 9 columns</p>\n",
              "</div>\n",
              "      <button class=\"colab-df-convert\" onclick=\"convertToInteractive('df-5233a7f5-2d28-4a1c-8bf4-b8ee4e0bc6b4')\"\n",
              "              title=\"Convert this dataframe to an interactive table.\"\n",
              "              style=\"display:none;\">\n",
              "        \n",
              "  <svg xmlns=\"http://www.w3.org/2000/svg\" height=\"24px\"viewBox=\"0 0 24 24\"\n",
              "       width=\"24px\">\n",
              "    <path d=\"M0 0h24v24H0V0z\" fill=\"none\"/>\n",
              "    <path d=\"M18.56 5.44l.94 2.06.94-2.06 2.06-.94-2.06-.94-.94-2.06-.94 2.06-2.06.94zm-11 1L8.5 8.5l.94-2.06 2.06-.94-2.06-.94L8.5 2.5l-.94 2.06-2.06.94zm10 10l.94 2.06.94-2.06 2.06-.94-2.06-.94-.94-2.06-.94 2.06-2.06.94z\"/><path d=\"M17.41 7.96l-1.37-1.37c-.4-.4-.92-.59-1.43-.59-.52 0-1.04.2-1.43.59L10.3 9.45l-7.72 7.72c-.78.78-.78 2.05 0 2.83L4 21.41c.39.39.9.59 1.41.59.51 0 1.02-.2 1.41-.59l7.78-7.78 2.81-2.81c.8-.78.8-2.07 0-2.86zM5.41 20L4 18.59l7.72-7.72 1.47 1.35L5.41 20z\"/>\n",
              "  </svg>\n",
              "      </button>\n",
              "      \n",
              "  <style>\n",
              "    .colab-df-container {\n",
              "      display:flex;\n",
              "      flex-wrap:wrap;\n",
              "      gap: 12px;\n",
              "    }\n",
              "\n",
              "    .colab-df-convert {\n",
              "      background-color: #E8F0FE;\n",
              "      border: none;\n",
              "      border-radius: 50%;\n",
              "      cursor: pointer;\n",
              "      display: none;\n",
              "      fill: #1967D2;\n",
              "      height: 32px;\n",
              "      padding: 0 0 0 0;\n",
              "      width: 32px;\n",
              "    }\n",
              "\n",
              "    .colab-df-convert:hover {\n",
              "      background-color: #E2EBFA;\n",
              "      box-shadow: 0px 1px 2px rgba(60, 64, 67, 0.3), 0px 1px 3px 1px rgba(60, 64, 67, 0.15);\n",
              "      fill: #174EA6;\n",
              "    }\n",
              "\n",
              "    [theme=dark] .colab-df-convert {\n",
              "      background-color: #3B4455;\n",
              "      fill: #D2E3FC;\n",
              "    }\n",
              "\n",
              "    [theme=dark] .colab-df-convert:hover {\n",
              "      background-color: #434B5C;\n",
              "      box-shadow: 0px 1px 3px 1px rgba(0, 0, 0, 0.15);\n",
              "      filter: drop-shadow(0px 1px 2px rgba(0, 0, 0, 0.3));\n",
              "      fill: #FFFFFF;\n",
              "    }\n",
              "  </style>\n",
              "\n",
              "      <script>\n",
              "        const buttonEl =\n",
              "          document.querySelector('#df-5233a7f5-2d28-4a1c-8bf4-b8ee4e0bc6b4 button.colab-df-convert');\n",
              "        buttonEl.style.display =\n",
              "          google.colab.kernel.accessAllowed ? 'block' : 'none';\n",
              "\n",
              "        async function convertToInteractive(key) {\n",
              "          const element = document.querySelector('#df-5233a7f5-2d28-4a1c-8bf4-b8ee4e0bc6b4');\n",
              "          const dataTable =\n",
              "            await google.colab.kernel.invokeFunction('convertToInteractive',\n",
              "                                                     [key], {});\n",
              "          if (!dataTable) return;\n",
              "\n",
              "          const docLinkHtml = 'Like what you see? Visit the ' +\n",
              "            '<a target=\"_blank\" href=https://colab.research.google.com/notebooks/data_table.ipynb>data table notebook</a>'\n",
              "            + ' to learn more about interactive tables.';\n",
              "          element.innerHTML = '';\n",
              "          dataTable['output_type'] = 'display_data';\n",
              "          await google.colab.output.renderOutput(dataTable, element);\n",
              "          const docLink = document.createElement('div');\n",
              "          docLink.innerHTML = docLinkHtml;\n",
              "          element.appendChild(docLink);\n",
              "        }\n",
              "      </script>\n",
              "    </div>\n",
              "  </div>\n",
              "  "
            ]
          },
          "metadata": {},
          "execution_count": 31
        }
      ]
    },
    {
      "cell_type": "code",
      "source": [
        "cidades = df[['aluguel', 'condominio']].groupby('aluguel', 'condominio').sum()\n",
        "cidades.head()"
      ],
      "metadata": {
        "colab": {
          "base_uri": "https://localhost:8080/",
          "height": 454
        },
        "id": "EOXOJREs6Qro",
        "outputId": "a135e5e1-be38-4484-d8d7-3cc830fa5a8c"
      },
      "execution_count": null,
      "outputs": [
        {
          "output_type": "error",
          "ename": "ValueError",
          "evalue": "ignored",
          "traceback": [
            "\u001b[0;31m---------------------------------------------------------------------------\u001b[0m",
            "\u001b[0;31mKeyError\u001b[0m                                  Traceback (most recent call last)",
            "\u001b[0;32m/usr/local/lib/python3.7/dist-packages/pandas/core/generic.py\u001b[0m in \u001b[0;36m_get_axis_number\u001b[0;34m(cls, axis)\u001b[0m\n\u001b[1;32m    545\u001b[0m         \u001b[0;32mtry\u001b[0m\u001b[0;34m:\u001b[0m\u001b[0;34m\u001b[0m\u001b[0;34m\u001b[0m\u001b[0m\n\u001b[0;32m--> 546\u001b[0;31m             \u001b[0;32mreturn\u001b[0m \u001b[0mcls\u001b[0m\u001b[0;34m.\u001b[0m\u001b[0m_AXIS_TO_AXIS_NUMBER\u001b[0m\u001b[0;34m[\u001b[0m\u001b[0maxis\u001b[0m\u001b[0;34m]\u001b[0m\u001b[0;34m\u001b[0m\u001b[0;34m\u001b[0m\u001b[0m\n\u001b[0m\u001b[1;32m    547\u001b[0m         \u001b[0;32mexcept\u001b[0m \u001b[0mKeyError\u001b[0m\u001b[0;34m:\u001b[0m\u001b[0;34m\u001b[0m\u001b[0;34m\u001b[0m\u001b[0m\n",
            "\u001b[0;31mKeyError\u001b[0m: 'condominio'",
            "\nDuring handling of the above exception, another exception occurred:\n",
            "\u001b[0;31mValueError\u001b[0m                                Traceback (most recent call last)",
            "\u001b[0;32m<ipython-input-55-831c7f80218b>\u001b[0m in \u001b[0;36m<module>\u001b[0;34m\u001b[0m\n\u001b[0;32m----> 1\u001b[0;31m \u001b[0mcidades\u001b[0m \u001b[0;34m=\u001b[0m \u001b[0mdf\u001b[0m\u001b[0;34m[\u001b[0m\u001b[0;34m[\u001b[0m\u001b[0;34m'aluguel'\u001b[0m\u001b[0;34m,\u001b[0m \u001b[0;34m'condominio'\u001b[0m\u001b[0;34m]\u001b[0m\u001b[0;34m]\u001b[0m\u001b[0;34m.\u001b[0m\u001b[0mgroupby\u001b[0m\u001b[0;34m(\u001b[0m\u001b[0;34m'aluguel'\u001b[0m\u001b[0;34m,\u001b[0m \u001b[0;34m'condominio'\u001b[0m\u001b[0;34m)\u001b[0m\u001b[0;34m.\u001b[0m\u001b[0msum\u001b[0m\u001b[0;34m(\u001b[0m\u001b[0;34m)\u001b[0m\u001b[0;34m\u001b[0m\u001b[0;34m\u001b[0m\u001b[0m\n\u001b[0m\u001b[1;32m      2\u001b[0m \u001b[0mcidades\u001b[0m\u001b[0;34m.\u001b[0m\u001b[0mhead\u001b[0m\u001b[0;34m(\u001b[0m\u001b[0;34m)\u001b[0m\u001b[0;34m\u001b[0m\u001b[0;34m\u001b[0m\u001b[0m\n",
            "\u001b[0;32m/usr/local/lib/python3.7/dist-packages/pandas/core/frame.py\u001b[0m in \u001b[0;36mgroupby\u001b[0;34m(self, by, axis, level, as_index, sort, group_keys, squeeze, observed, dropna)\u001b[0m\n\u001b[1;32m   7625\u001b[0m         \u001b[0;32mif\u001b[0m \u001b[0mlevel\u001b[0m \u001b[0;32mis\u001b[0m \u001b[0;32mNone\u001b[0m \u001b[0;32mand\u001b[0m \u001b[0mby\u001b[0m \u001b[0;32mis\u001b[0m \u001b[0;32mNone\u001b[0m\u001b[0;34m:\u001b[0m\u001b[0;34m\u001b[0m\u001b[0;34m\u001b[0m\u001b[0m\n\u001b[1;32m   7626\u001b[0m             \u001b[0;32mraise\u001b[0m \u001b[0mTypeError\u001b[0m\u001b[0;34m(\u001b[0m\u001b[0;34m\"You have to supply one of 'by' and 'level'\"\u001b[0m\u001b[0;34m)\u001b[0m\u001b[0;34m\u001b[0m\u001b[0;34m\u001b[0m\u001b[0m\n\u001b[0;32m-> 7627\u001b[0;31m         \u001b[0maxis\u001b[0m \u001b[0;34m=\u001b[0m \u001b[0mself\u001b[0m\u001b[0;34m.\u001b[0m\u001b[0m_get_axis_number\u001b[0m\u001b[0;34m(\u001b[0m\u001b[0maxis\u001b[0m\u001b[0;34m)\u001b[0m\u001b[0;34m\u001b[0m\u001b[0;34m\u001b[0m\u001b[0m\n\u001b[0m\u001b[1;32m   7628\u001b[0m \u001b[0;34m\u001b[0m\u001b[0m\n\u001b[1;32m   7629\u001b[0m         \u001b[0;31m# error: Argument \"squeeze\" to \"DataFrameGroupBy\" has incompatible type\u001b[0m\u001b[0;34m\u001b[0m\u001b[0;34m\u001b[0m\u001b[0;34m\u001b[0m\u001b[0m\n",
            "\u001b[0;32m/usr/local/lib/python3.7/dist-packages/pandas/core/generic.py\u001b[0m in \u001b[0;36m_get_axis_number\u001b[0;34m(cls, axis)\u001b[0m\n\u001b[1;32m    546\u001b[0m             \u001b[0;32mreturn\u001b[0m \u001b[0mcls\u001b[0m\u001b[0;34m.\u001b[0m\u001b[0m_AXIS_TO_AXIS_NUMBER\u001b[0m\u001b[0;34m[\u001b[0m\u001b[0maxis\u001b[0m\u001b[0;34m]\u001b[0m\u001b[0;34m\u001b[0m\u001b[0;34m\u001b[0m\u001b[0m\n\u001b[1;32m    547\u001b[0m         \u001b[0;32mexcept\u001b[0m \u001b[0mKeyError\u001b[0m\u001b[0;34m:\u001b[0m\u001b[0;34m\u001b[0m\u001b[0;34m\u001b[0m\u001b[0m\n\u001b[0;32m--> 548\u001b[0;31m             \u001b[0;32mraise\u001b[0m \u001b[0mValueError\u001b[0m\u001b[0;34m(\u001b[0m\u001b[0;34mf\"No axis named {axis} for object type {cls.__name__}\"\u001b[0m\u001b[0;34m)\u001b[0m\u001b[0;34m\u001b[0m\u001b[0;34m\u001b[0m\u001b[0m\n\u001b[0m\u001b[1;32m    549\u001b[0m \u001b[0;34m\u001b[0m\u001b[0m\n\u001b[1;32m    550\u001b[0m     \u001b[0;34m@\u001b[0m\u001b[0mfinal\u001b[0m\u001b[0;34m\u001b[0m\u001b[0;34m\u001b[0m\u001b[0m\n",
            "\u001b[0;31mValueError\u001b[0m: No axis named condominio for object type DataFrame"
          ]
        }
      ]
    },
    {
      "cell_type": "code",
      "source": [
        "df.info()"
      ],
      "metadata": {
        "colab": {
          "base_uri": "https://localhost:8080/"
        },
        "id": "WHgyunO17gOk",
        "outputId": "bc4d09e8-790d-4a72-94be-19541a817adb"
      },
      "execution_count": null,
      "outputs": [
        {
          "output_type": "stream",
          "name": "stdout",
          "text": [
            "<class 'pandas.core.frame.DataFrame'>\n",
            "RangeIndex: 510 entries, 0 to 509\n",
            "Data columns (total 9 columns):\n",
            " #   Column            Non-Null Count  Dtype  \n",
            "---  ------            --------------  -----  \n",
            " 0   titulo            510 non-null    object \n",
            " 1   link              510 non-null    object \n",
            " 2   aluguel           490 non-null    float64\n",
            " 3   localização       510 non-null    object \n",
            " 4   data de postagem  510 non-null    object \n",
            " 5   metragem          109 non-null    float64\n",
            " 6   quartos           109 non-null    float64\n",
            " 7   condominio        144 non-null    float64\n",
            " 8   valor total       138 non-null    float64\n",
            "dtypes: float64(5), object(4)\n",
            "memory usage: 36.0+ KB\n"
          ]
        }
      ]
    },
    {
      "cell_type": "code",
      "source": [
        "group1 = df[['localização', 'valor total']]"
      ],
      "metadata": {
        "id": "-bhaHdYM7v-U"
      },
      "execution_count": 32,
      "outputs": []
    },
    {
      "cell_type": "code",
      "source": [
        "group1 = group1.dropna()"
      ],
      "metadata": {
        "id": "tid1E_aI-1Vn"
      },
      "execution_count": 33,
      "outputs": []
    },
    {
      "cell_type": "code",
      "source": [
        "len(group1)"
      ],
      "metadata": {
        "colab": {
          "base_uri": "https://localhost:8080/"
        },
        "id": "JgXvRny5-2_I",
        "outputId": "034dcc56-eb1a-4aed-a14c-3b3a13e81b4c"
      },
      "execution_count": 34,
      "outputs": [
        {
          "output_type": "execute_result",
          "data": {
            "text/plain": [
              "112"
            ]
          },
          "metadata": {},
          "execution_count": 34
        }
      ]
    },
    {
      "cell_type": "code",
      "source": [
        "l = group1.groupby('localização').median()\n",
        "l.head()"
      ],
      "metadata": {
        "colab": {
          "base_uri": "https://localhost:8080/",
          "height": 237
        },
        "id": "imodKNuvByFH",
        "outputId": "bbb23e56-c342-4cc5-fe24-65f10ee9cabc"
      },
      "execution_count": 35,
      "outputs": [
        {
          "output_type": "execute_result",
          "data": {
            "text/plain": [
              "                                                valor total\n",
              "localização                                                \n",
              "Brasília, Areal (Águas Claras) - DDD 61              1200.0\n",
              "Brasília, Asa Norte - DDD 61                         4500.0\n",
              "Brasília, Asa Sul - DDD 61                          55000.0\n",
              "Brasília, Ceilândia Norte (Ceilândia) - DDD 61       1200.0\n",
              "Brasília, Ceilândia Sul (Ceilândia) - DDD 61         1200.0"
            ],
            "text/html": [
              "\n",
              "  <div id=\"df-afa545c1-e228-48e7-8f79-409ff5850419\">\n",
              "    <div class=\"colab-df-container\">\n",
              "      <div>\n",
              "<style scoped>\n",
              "    .dataframe tbody tr th:only-of-type {\n",
              "        vertical-align: middle;\n",
              "    }\n",
              "\n",
              "    .dataframe tbody tr th {\n",
              "        vertical-align: top;\n",
              "    }\n",
              "\n",
              "    .dataframe thead th {\n",
              "        text-align: right;\n",
              "    }\n",
              "</style>\n",
              "<table border=\"1\" class=\"dataframe\">\n",
              "  <thead>\n",
              "    <tr style=\"text-align: right;\">\n",
              "      <th></th>\n",
              "      <th>valor total</th>\n",
              "    </tr>\n",
              "    <tr>\n",
              "      <th>localização</th>\n",
              "      <th></th>\n",
              "    </tr>\n",
              "  </thead>\n",
              "  <tbody>\n",
              "    <tr>\n",
              "      <th>Brasília, Areal (Águas Claras) - DDD 61</th>\n",
              "      <td>1200.0</td>\n",
              "    </tr>\n",
              "    <tr>\n",
              "      <th>Brasília, Asa Norte - DDD 61</th>\n",
              "      <td>4500.0</td>\n",
              "    </tr>\n",
              "    <tr>\n",
              "      <th>Brasília, Asa Sul - DDD 61</th>\n",
              "      <td>55000.0</td>\n",
              "    </tr>\n",
              "    <tr>\n",
              "      <th>Brasília, Ceilândia Norte (Ceilândia) - DDD 61</th>\n",
              "      <td>1200.0</td>\n",
              "    </tr>\n",
              "    <tr>\n",
              "      <th>Brasília, Ceilândia Sul (Ceilândia) - DDD 61</th>\n",
              "      <td>1200.0</td>\n",
              "    </tr>\n",
              "  </tbody>\n",
              "</table>\n",
              "</div>\n",
              "      <button class=\"colab-df-convert\" onclick=\"convertToInteractive('df-afa545c1-e228-48e7-8f79-409ff5850419')\"\n",
              "              title=\"Convert this dataframe to an interactive table.\"\n",
              "              style=\"display:none;\">\n",
              "        \n",
              "  <svg xmlns=\"http://www.w3.org/2000/svg\" height=\"24px\"viewBox=\"0 0 24 24\"\n",
              "       width=\"24px\">\n",
              "    <path d=\"M0 0h24v24H0V0z\" fill=\"none\"/>\n",
              "    <path d=\"M18.56 5.44l.94 2.06.94-2.06 2.06-.94-2.06-.94-.94-2.06-.94 2.06-2.06.94zm-11 1L8.5 8.5l.94-2.06 2.06-.94-2.06-.94L8.5 2.5l-.94 2.06-2.06.94zm10 10l.94 2.06.94-2.06 2.06-.94-2.06-.94-.94-2.06-.94 2.06-2.06.94z\"/><path d=\"M17.41 7.96l-1.37-1.37c-.4-.4-.92-.59-1.43-.59-.52 0-1.04.2-1.43.59L10.3 9.45l-7.72 7.72c-.78.78-.78 2.05 0 2.83L4 21.41c.39.39.9.59 1.41.59.51 0 1.02-.2 1.41-.59l7.78-7.78 2.81-2.81c.8-.78.8-2.07 0-2.86zM5.41 20L4 18.59l7.72-7.72 1.47 1.35L5.41 20z\"/>\n",
              "  </svg>\n",
              "      </button>\n",
              "      \n",
              "  <style>\n",
              "    .colab-df-container {\n",
              "      display:flex;\n",
              "      flex-wrap:wrap;\n",
              "      gap: 12px;\n",
              "    }\n",
              "\n",
              "    .colab-df-convert {\n",
              "      background-color: #E8F0FE;\n",
              "      border: none;\n",
              "      border-radius: 50%;\n",
              "      cursor: pointer;\n",
              "      display: none;\n",
              "      fill: #1967D2;\n",
              "      height: 32px;\n",
              "      padding: 0 0 0 0;\n",
              "      width: 32px;\n",
              "    }\n",
              "\n",
              "    .colab-df-convert:hover {\n",
              "      background-color: #E2EBFA;\n",
              "      box-shadow: 0px 1px 2px rgba(60, 64, 67, 0.3), 0px 1px 3px 1px rgba(60, 64, 67, 0.15);\n",
              "      fill: #174EA6;\n",
              "    }\n",
              "\n",
              "    [theme=dark] .colab-df-convert {\n",
              "      background-color: #3B4455;\n",
              "      fill: #D2E3FC;\n",
              "    }\n",
              "\n",
              "    [theme=dark] .colab-df-convert:hover {\n",
              "      background-color: #434B5C;\n",
              "      box-shadow: 0px 1px 3px 1px rgba(0, 0, 0, 0.15);\n",
              "      filter: drop-shadow(0px 1px 2px rgba(0, 0, 0, 0.3));\n",
              "      fill: #FFFFFF;\n",
              "    }\n",
              "  </style>\n",
              "\n",
              "      <script>\n",
              "        const buttonEl =\n",
              "          document.querySelector('#df-afa545c1-e228-48e7-8f79-409ff5850419 button.colab-df-convert');\n",
              "        buttonEl.style.display =\n",
              "          google.colab.kernel.accessAllowed ? 'block' : 'none';\n",
              "\n",
              "        async function convertToInteractive(key) {\n",
              "          const element = document.querySelector('#df-afa545c1-e228-48e7-8f79-409ff5850419');\n",
              "          const dataTable =\n",
              "            await google.colab.kernel.invokeFunction('convertToInteractive',\n",
              "                                                     [key], {});\n",
              "          if (!dataTable) return;\n",
              "\n",
              "          const docLinkHtml = 'Like what you see? Visit the ' +\n",
              "            '<a target=\"_blank\" href=https://colab.research.google.com/notebooks/data_table.ipynb>data table notebook</a>'\n",
              "            + ' to learn more about interactive tables.';\n",
              "          element.innerHTML = '';\n",
              "          dataTable['output_type'] = 'display_data';\n",
              "          await google.colab.output.renderOutput(dataTable, element);\n",
              "          const docLink = document.createElement('div');\n",
              "          docLink.innerHTML = docLinkHtml;\n",
              "          element.appendChild(docLink);\n",
              "        }\n",
              "      </script>\n",
              "    </div>\n",
              "  </div>\n",
              "  "
            ]
          },
          "metadata": {},
          "execution_count": 35
        }
      ]
    },
    {
      "cell_type": "code",
      "source": [
        "ll = group1.groupby('localização').mean()\n",
        "l.head()"
      ],
      "metadata": {
        "colab": {
          "base_uri": "https://localhost:8080/",
          "height": 237
        },
        "id": "sdQXdfgWI9xj",
        "outputId": "22fbdaea-efb5-42eb-c97d-e9dbfe18d663"
      },
      "execution_count": null,
      "outputs": [
        {
          "output_type": "execute_result",
          "data": {
            "text/plain": [
              "                                                valor total\n",
              "localização                                                \n",
              "Brasília, Asa Norte - DDD 61                         1640.0\n",
              "Brasília, Asa Sul - DDD 61                           1233.0\n",
              "Brasília, Candangolândia - DDD 61                     109.0\n",
              "Brasília, Ceilândia Norte (Ceilândia) - DDD 61        640.0\n",
              "Brasília, Ceilândia Sul (Ceilândia) - DDD 61          840.0"
            ],
            "text/html": [
              "\n",
              "  <div id=\"df-d50ccc3d-5dc1-482e-84b1-04d28d63b013\">\n",
              "    <div class=\"colab-df-container\">\n",
              "      <div>\n",
              "<style scoped>\n",
              "    .dataframe tbody tr th:only-of-type {\n",
              "        vertical-align: middle;\n",
              "    }\n",
              "\n",
              "    .dataframe tbody tr th {\n",
              "        vertical-align: top;\n",
              "    }\n",
              "\n",
              "    .dataframe thead th {\n",
              "        text-align: right;\n",
              "    }\n",
              "</style>\n",
              "<table border=\"1\" class=\"dataframe\">\n",
              "  <thead>\n",
              "    <tr style=\"text-align: right;\">\n",
              "      <th></th>\n",
              "      <th>valor total</th>\n",
              "    </tr>\n",
              "    <tr>\n",
              "      <th>localização</th>\n",
              "      <th></th>\n",
              "    </tr>\n",
              "  </thead>\n",
              "  <tbody>\n",
              "    <tr>\n",
              "      <th>Brasília, Asa Norte - DDD 61</th>\n",
              "      <td>1640.0</td>\n",
              "    </tr>\n",
              "    <tr>\n",
              "      <th>Brasília, Asa Sul - DDD 61</th>\n",
              "      <td>1233.0</td>\n",
              "    </tr>\n",
              "    <tr>\n",
              "      <th>Brasília, Candangolândia - DDD 61</th>\n",
              "      <td>109.0</td>\n",
              "    </tr>\n",
              "    <tr>\n",
              "      <th>Brasília, Ceilândia Norte (Ceilândia) - DDD 61</th>\n",
              "      <td>640.0</td>\n",
              "    </tr>\n",
              "    <tr>\n",
              "      <th>Brasília, Ceilândia Sul (Ceilândia) - DDD 61</th>\n",
              "      <td>840.0</td>\n",
              "    </tr>\n",
              "  </tbody>\n",
              "</table>\n",
              "</div>\n",
              "      <button class=\"colab-df-convert\" onclick=\"convertToInteractive('df-d50ccc3d-5dc1-482e-84b1-04d28d63b013')\"\n",
              "              title=\"Convert this dataframe to an interactive table.\"\n",
              "              style=\"display:none;\">\n",
              "        \n",
              "  <svg xmlns=\"http://www.w3.org/2000/svg\" height=\"24px\"viewBox=\"0 0 24 24\"\n",
              "       width=\"24px\">\n",
              "    <path d=\"M0 0h24v24H0V0z\" fill=\"none\"/>\n",
              "    <path d=\"M18.56 5.44l.94 2.06.94-2.06 2.06-.94-2.06-.94-.94-2.06-.94 2.06-2.06.94zm-11 1L8.5 8.5l.94-2.06 2.06-.94-2.06-.94L8.5 2.5l-.94 2.06-2.06.94zm10 10l.94 2.06.94-2.06 2.06-.94-2.06-.94-.94-2.06-.94 2.06-2.06.94z\"/><path d=\"M17.41 7.96l-1.37-1.37c-.4-.4-.92-.59-1.43-.59-.52 0-1.04.2-1.43.59L10.3 9.45l-7.72 7.72c-.78.78-.78 2.05 0 2.83L4 21.41c.39.39.9.59 1.41.59.51 0 1.02-.2 1.41-.59l7.78-7.78 2.81-2.81c.8-.78.8-2.07 0-2.86zM5.41 20L4 18.59l7.72-7.72 1.47 1.35L5.41 20z\"/>\n",
              "  </svg>\n",
              "      </button>\n",
              "      \n",
              "  <style>\n",
              "    .colab-df-container {\n",
              "      display:flex;\n",
              "      flex-wrap:wrap;\n",
              "      gap: 12px;\n",
              "    }\n",
              "\n",
              "    .colab-df-convert {\n",
              "      background-color: #E8F0FE;\n",
              "      border: none;\n",
              "      border-radius: 50%;\n",
              "      cursor: pointer;\n",
              "      display: none;\n",
              "      fill: #1967D2;\n",
              "      height: 32px;\n",
              "      padding: 0 0 0 0;\n",
              "      width: 32px;\n",
              "    }\n",
              "\n",
              "    .colab-df-convert:hover {\n",
              "      background-color: #E2EBFA;\n",
              "      box-shadow: 0px 1px 2px rgba(60, 64, 67, 0.3), 0px 1px 3px 1px rgba(60, 64, 67, 0.15);\n",
              "      fill: #174EA6;\n",
              "    }\n",
              "\n",
              "    [theme=dark] .colab-df-convert {\n",
              "      background-color: #3B4455;\n",
              "      fill: #D2E3FC;\n",
              "    }\n",
              "\n",
              "    [theme=dark] .colab-df-convert:hover {\n",
              "      background-color: #434B5C;\n",
              "      box-shadow: 0px 1px 3px 1px rgba(0, 0, 0, 0.15);\n",
              "      filter: drop-shadow(0px 1px 2px rgba(0, 0, 0, 0.3));\n",
              "      fill: #FFFFFF;\n",
              "    }\n",
              "  </style>\n",
              "\n",
              "      <script>\n",
              "        const buttonEl =\n",
              "          document.querySelector('#df-d50ccc3d-5dc1-482e-84b1-04d28d63b013 button.colab-df-convert');\n",
              "        buttonEl.style.display =\n",
              "          google.colab.kernel.accessAllowed ? 'block' : 'none';\n",
              "\n",
              "        async function convertToInteractive(key) {\n",
              "          const element = document.querySelector('#df-d50ccc3d-5dc1-482e-84b1-04d28d63b013');\n",
              "          const dataTable =\n",
              "            await google.colab.kernel.invokeFunction('convertToInteractive',\n",
              "                                                     [key], {});\n",
              "          if (!dataTable) return;\n",
              "\n",
              "          const docLinkHtml = 'Like what you see? Visit the ' +\n",
              "            '<a target=\"_blank\" href=https://colab.research.google.com/notebooks/data_table.ipynb>data table notebook</a>'\n",
              "            + ' to learn more about interactive tables.';\n",
              "          element.innerHTML = '';\n",
              "          dataTable['output_type'] = 'display_data';\n",
              "          await google.colab.output.renderOutput(dataTable, element);\n",
              "          const docLink = document.createElement('div');\n",
              "          docLink.innerHTML = docLinkHtml;\n",
              "          element.appendChild(docLink);\n",
              "        }\n",
              "      </script>\n",
              "    </div>\n",
              "  </div>\n",
              "  "
            ]
          },
          "metadata": {},
          "execution_count": 165
        }
      ]
    },
    {
      "cell_type": "code",
      "source": [],
      "metadata": {
        "colab": {
          "base_uri": "https://localhost:8080/",
          "height": 958
        },
        "id": "4yXd7rCGC--R",
        "outputId": "1beca5e0-2ccf-4d5c-9184-02a044703c59"
      },
      "execution_count": null,
      "outputs": [
        {
          "output_type": "execute_result",
          "data": {
            "text/plain": [
              "                                                    valor total\n",
              "localização                                                    \n",
              "Brasília, Asa Norte - DDD 61                                  9\n",
              "Brasília, Asa Sul - DDD 61                                    3\n",
              "Brasília, Candangolândia - DDD 61                             3\n",
              "Brasília, Ceilândia Norte (Ceilândia) - DDD 61                5\n",
              "Brasília, Ceilândia Sul (Ceilândia) - DDD 61                  5\n",
              "Brasília, Guará II - DDD 61                                   6\n",
              "Brasília, Jardins Mangueiral (Jardim Botânico) ...            3\n",
              "Brasília, Norte (Águas Claras) - DDD 61                       5\n",
              "Brasília, Riacho Fundo II - DDD 61                            5\n",
              "Brasília, Samambaia Norte (Samambaia) - DDD 61                1\n",
              "Brasília, Samambaia Sul (Samambaia) - DDD 61                  3\n",
              "Brasília, Santa Maria - DDD 61                                3\n",
              "Brasília, Setor Habitacional Vicente Pires - Tr...            2\n",
              "Brasília, Setor Noroeste - DDD 61                             4\n",
              "Brasília, Setor Sudoeste - DDD 61                            16\n",
              "Brasília, Sobradinho - DDD 61                                 7\n",
              "Brasília, Sul (Águas Claras) - DDD 61                         6\n",
              "Brasília, Taguatinga Centro (Taguatinga) - DDD 61             2\n",
              "Brasília, Taguatinga Norte (Taguatinga) - DDD 61             12\n",
              "Brasília, Taguatinga Norte - DDD 61                           2\n",
              "Brasília, Taguatinga Sul (Taguatinga) - DDD 61                7\n",
              "Brasília, Vila Planalto - DDD 61                              6\n",
              "Brasília, Zona Industrial (Guará) - DDD 61                    2\n",
              "Brasília, Área de Desenvolvimento Econômico (Ág...            3\n",
              "Luziânia, Centro - DDD 61                                     5\n",
              "Valparaíso de Goiás, Jardim Céu Azul - DDD 61                 5\n",
              "Valparaíso de Goiás, Parque Rio Branco - DDD 61               1\n",
              "Valparaíso de Goiás, Ypiranga - DDD 61                        7"
            ],
            "text/html": [
              "\n",
              "  <div id=\"df-16bcecee-238b-4626-93d5-0d47f243fbe6\">\n",
              "    <div class=\"colab-df-container\">\n",
              "      <div>\n",
              "<style scoped>\n",
              "    .dataframe tbody tr th:only-of-type {\n",
              "        vertical-align: middle;\n",
              "    }\n",
              "\n",
              "    .dataframe tbody tr th {\n",
              "        vertical-align: top;\n",
              "    }\n",
              "\n",
              "    .dataframe thead th {\n",
              "        text-align: right;\n",
              "    }\n",
              "</style>\n",
              "<table border=\"1\" class=\"dataframe\">\n",
              "  <thead>\n",
              "    <tr style=\"text-align: right;\">\n",
              "      <th></th>\n",
              "      <th>valor total</th>\n",
              "    </tr>\n",
              "    <tr>\n",
              "      <th>localização</th>\n",
              "      <th></th>\n",
              "    </tr>\n",
              "  </thead>\n",
              "  <tbody>\n",
              "    <tr>\n",
              "      <th>Brasília, Asa Norte - DDD 61</th>\n",
              "      <td>9</td>\n",
              "    </tr>\n",
              "    <tr>\n",
              "      <th>Brasília, Asa Sul - DDD 61</th>\n",
              "      <td>3</td>\n",
              "    </tr>\n",
              "    <tr>\n",
              "      <th>Brasília, Candangolândia - DDD 61</th>\n",
              "      <td>3</td>\n",
              "    </tr>\n",
              "    <tr>\n",
              "      <th>Brasília, Ceilândia Norte (Ceilândia) - DDD 61</th>\n",
              "      <td>5</td>\n",
              "    </tr>\n",
              "    <tr>\n",
              "      <th>Brasília, Ceilândia Sul (Ceilândia) - DDD 61</th>\n",
              "      <td>5</td>\n",
              "    </tr>\n",
              "    <tr>\n",
              "      <th>Brasília, Guará II - DDD 61</th>\n",
              "      <td>6</td>\n",
              "    </tr>\n",
              "    <tr>\n",
              "      <th>Brasília, Jardins Mangueiral (Jardim Botânico) - DDD 61</th>\n",
              "      <td>3</td>\n",
              "    </tr>\n",
              "    <tr>\n",
              "      <th>Brasília, Norte (Águas Claras) - DDD 61</th>\n",
              "      <td>5</td>\n",
              "    </tr>\n",
              "    <tr>\n",
              "      <th>Brasília, Riacho Fundo II - DDD 61</th>\n",
              "      <td>5</td>\n",
              "    </tr>\n",
              "    <tr>\n",
              "      <th>Brasília, Samambaia Norte (Samambaia) - DDD 61</th>\n",
              "      <td>1</td>\n",
              "    </tr>\n",
              "    <tr>\n",
              "      <th>Brasília, Samambaia Sul (Samambaia) - DDD 61</th>\n",
              "      <td>3</td>\n",
              "    </tr>\n",
              "    <tr>\n",
              "      <th>Brasília, Santa Maria - DDD 61</th>\n",
              "      <td>3</td>\n",
              "    </tr>\n",
              "    <tr>\n",
              "      <th>Brasília, Setor Habitacional Vicente Pires - Trecho 1 - DDD 61</th>\n",
              "      <td>2</td>\n",
              "    </tr>\n",
              "    <tr>\n",
              "      <th>Brasília, Setor Noroeste - DDD 61</th>\n",
              "      <td>4</td>\n",
              "    </tr>\n",
              "    <tr>\n",
              "      <th>Brasília, Setor Sudoeste - DDD 61</th>\n",
              "      <td>16</td>\n",
              "    </tr>\n",
              "    <tr>\n",
              "      <th>Brasília, Sobradinho - DDD 61</th>\n",
              "      <td>7</td>\n",
              "    </tr>\n",
              "    <tr>\n",
              "      <th>Brasília, Sul (Águas Claras) - DDD 61</th>\n",
              "      <td>6</td>\n",
              "    </tr>\n",
              "    <tr>\n",
              "      <th>Brasília, Taguatinga Centro (Taguatinga) - DDD 61</th>\n",
              "      <td>2</td>\n",
              "    </tr>\n",
              "    <tr>\n",
              "      <th>Brasília, Taguatinga Norte (Taguatinga) - DDD 61</th>\n",
              "      <td>12</td>\n",
              "    </tr>\n",
              "    <tr>\n",
              "      <th>Brasília, Taguatinga Norte - DDD 61</th>\n",
              "      <td>2</td>\n",
              "    </tr>\n",
              "    <tr>\n",
              "      <th>Brasília, Taguatinga Sul (Taguatinga) - DDD 61</th>\n",
              "      <td>7</td>\n",
              "    </tr>\n",
              "    <tr>\n",
              "      <th>Brasília, Vila Planalto - DDD 61</th>\n",
              "      <td>6</td>\n",
              "    </tr>\n",
              "    <tr>\n",
              "      <th>Brasília, Zona Industrial (Guará) - DDD 61</th>\n",
              "      <td>2</td>\n",
              "    </tr>\n",
              "    <tr>\n",
              "      <th>Brasília, Área de Desenvolvimento Econômico (Águas Claras) - DDD 61</th>\n",
              "      <td>3</td>\n",
              "    </tr>\n",
              "    <tr>\n",
              "      <th>Luziânia, Centro - DDD 61</th>\n",
              "      <td>5</td>\n",
              "    </tr>\n",
              "    <tr>\n",
              "      <th>Valparaíso de Goiás, Jardim Céu Azul - DDD 61</th>\n",
              "      <td>5</td>\n",
              "    </tr>\n",
              "    <tr>\n",
              "      <th>Valparaíso de Goiás, Parque Rio Branco - DDD 61</th>\n",
              "      <td>1</td>\n",
              "    </tr>\n",
              "    <tr>\n",
              "      <th>Valparaíso de Goiás, Ypiranga - DDD 61</th>\n",
              "      <td>7</td>\n",
              "    </tr>\n",
              "  </tbody>\n",
              "</table>\n",
              "</div>\n",
              "      <button class=\"colab-df-convert\" onclick=\"convertToInteractive('df-16bcecee-238b-4626-93d5-0d47f243fbe6')\"\n",
              "              title=\"Convert this dataframe to an interactive table.\"\n",
              "              style=\"display:none;\">\n",
              "        \n",
              "  <svg xmlns=\"http://www.w3.org/2000/svg\" height=\"24px\"viewBox=\"0 0 24 24\"\n",
              "       width=\"24px\">\n",
              "    <path d=\"M0 0h24v24H0V0z\" fill=\"none\"/>\n",
              "    <path d=\"M18.56 5.44l.94 2.06.94-2.06 2.06-.94-2.06-.94-.94-2.06-.94 2.06-2.06.94zm-11 1L8.5 8.5l.94-2.06 2.06-.94-2.06-.94L8.5 2.5l-.94 2.06-2.06.94zm10 10l.94 2.06.94-2.06 2.06-.94-2.06-.94-.94-2.06-.94 2.06-2.06.94z\"/><path d=\"M17.41 7.96l-1.37-1.37c-.4-.4-.92-.59-1.43-.59-.52 0-1.04.2-1.43.59L10.3 9.45l-7.72 7.72c-.78.78-.78 2.05 0 2.83L4 21.41c.39.39.9.59 1.41.59.51 0 1.02-.2 1.41-.59l7.78-7.78 2.81-2.81c.8-.78.8-2.07 0-2.86zM5.41 20L4 18.59l7.72-7.72 1.47 1.35L5.41 20z\"/>\n",
              "  </svg>\n",
              "      </button>\n",
              "      \n",
              "  <style>\n",
              "    .colab-df-container {\n",
              "      display:flex;\n",
              "      flex-wrap:wrap;\n",
              "      gap: 12px;\n",
              "    }\n",
              "\n",
              "    .colab-df-convert {\n",
              "      background-color: #E8F0FE;\n",
              "      border: none;\n",
              "      border-radius: 50%;\n",
              "      cursor: pointer;\n",
              "      display: none;\n",
              "      fill: #1967D2;\n",
              "      height: 32px;\n",
              "      padding: 0 0 0 0;\n",
              "      width: 32px;\n",
              "    }\n",
              "\n",
              "    .colab-df-convert:hover {\n",
              "      background-color: #E2EBFA;\n",
              "      box-shadow: 0px 1px 2px rgba(60, 64, 67, 0.3), 0px 1px 3px 1px rgba(60, 64, 67, 0.15);\n",
              "      fill: #174EA6;\n",
              "    }\n",
              "\n",
              "    [theme=dark] .colab-df-convert {\n",
              "      background-color: #3B4455;\n",
              "      fill: #D2E3FC;\n",
              "    }\n",
              "\n",
              "    [theme=dark] .colab-df-convert:hover {\n",
              "      background-color: #434B5C;\n",
              "      box-shadow: 0px 1px 3px 1px rgba(0, 0, 0, 0.15);\n",
              "      filter: drop-shadow(0px 1px 2px rgba(0, 0, 0, 0.3));\n",
              "      fill: #FFFFFF;\n",
              "    }\n",
              "  </style>\n",
              "\n",
              "      <script>\n",
              "        const buttonEl =\n",
              "          document.querySelector('#df-16bcecee-238b-4626-93d5-0d47f243fbe6 button.colab-df-convert');\n",
              "        buttonEl.style.display =\n",
              "          google.colab.kernel.accessAllowed ? 'block' : 'none';\n",
              "\n",
              "        async function convertToInteractive(key) {\n",
              "          const element = document.querySelector('#df-16bcecee-238b-4626-93d5-0d47f243fbe6');\n",
              "          const dataTable =\n",
              "            await google.colab.kernel.invokeFunction('convertToInteractive',\n",
              "                                                     [key], {});\n",
              "          if (!dataTable) return;\n",
              "\n",
              "          const docLinkHtml = 'Like what you see? Visit the ' +\n",
              "            '<a target=\"_blank\" href=https://colab.research.google.com/notebooks/data_table.ipynb>data table notebook</a>'\n",
              "            + ' to learn more about interactive tables.';\n",
              "          element.innerHTML = '';\n",
              "          dataTable['output_type'] = 'display_data';\n",
              "          await google.colab.output.renderOutput(dataTable, element);\n",
              "          const docLink = document.createElement('div');\n",
              "          docLink.innerHTML = docLinkHtml;\n",
              "          element.appendChild(docLink);\n",
              "        }\n",
              "      </script>\n",
              "    </div>\n",
              "  </div>\n",
              "  "
            ]
          },
          "metadata": {},
          "execution_count": 156
        }
      ]
    },
    {
      "cell_type": "code",
      "source": [
        "group1.groupby('localização').hist()"
      ],
      "metadata": {
        "colab": {
          "base_uri": "https://localhost:8080/",
          "height": 1000
        },
        "id": "LZpjjt1UHFq_",
        "outputId": "0d4492d9-277b-42d3-c88d-d0d67634e6fc"
      },
      "execution_count": null,
      "outputs": [
        {
          "output_type": "stream",
          "name": "stderr",
          "text": [
            "/usr/local/lib/python3.7/dist-packages/pandas/plotting/_matplotlib/tools.py:218: RuntimeWarning: More than 20 figures have been opened. Figures created through the pyplot interface (`matplotlib.pyplot.figure`) are retained until explicitly closed and may consume too much memory. (To control this warning, see the rcParam `figure.max_open_warning`).\n",
            "  fig = plt.figure(**fig_kw)\n"
          ]
        },
        {
          "output_type": "execute_result",
          "data": {
            "text/plain": [
              "localização\n",
              "Brasília, Asa Norte - DDD 61                                           [[AxesSubplot(0.125,0.125;0.775x0.755)]]\n",
              "Brasília, Asa Sul - DDD 61                                             [[AxesSubplot(0.125,0.125;0.775x0.755)]]\n",
              "Brasília, Candangolândia - DDD 61                                      [[AxesSubplot(0.125,0.125;0.775x0.755)]]\n",
              "Brasília, Ceilândia Norte (Ceilândia) - DDD 61                         [[AxesSubplot(0.125,0.125;0.775x0.755)]]\n",
              "Brasília, Ceilândia Sul (Ceilândia) - DDD 61                           [[AxesSubplot(0.125,0.125;0.775x0.755)]]\n",
              "Brasília, Guará II - DDD 61                                            [[AxesSubplot(0.125,0.125;0.775x0.755)]]\n",
              "Brasília, Jardins Mangueiral (Jardim Botânico) - DDD 61                [[AxesSubplot(0.125,0.125;0.775x0.755)]]\n",
              "Brasília, Norte (Águas Claras) - DDD 61                                [[AxesSubplot(0.125,0.125;0.775x0.755)]]\n",
              "Brasília, Riacho Fundo II - DDD 61                                     [[AxesSubplot(0.125,0.125;0.775x0.755)]]\n",
              "Brasília, Samambaia Norte (Samambaia) - DDD 61                         [[AxesSubplot(0.125,0.125;0.775x0.755)]]\n",
              "Brasília, Samambaia Sul (Samambaia) - DDD 61                           [[AxesSubplot(0.125,0.125;0.775x0.755)]]\n",
              "Brasília, Santa Maria - DDD 61                                         [[AxesSubplot(0.125,0.125;0.775x0.755)]]\n",
              "Brasília, Setor Habitacional Vicente Pires - Trecho 1 - DDD 61         [[AxesSubplot(0.125,0.125;0.775x0.755)]]\n",
              "Brasília, Setor Noroeste - DDD 61                                      [[AxesSubplot(0.125,0.125;0.775x0.755)]]\n",
              "Brasília, Setor Sudoeste - DDD 61                                      [[AxesSubplot(0.125,0.125;0.775x0.755)]]\n",
              "Brasília, Sobradinho - DDD 61                                          [[AxesSubplot(0.125,0.125;0.775x0.755)]]\n",
              "Brasília, Sul (Águas Claras) - DDD 61                                  [[AxesSubplot(0.125,0.125;0.775x0.755)]]\n",
              "Brasília, Taguatinga Centro (Taguatinga) - DDD 61                      [[AxesSubplot(0.125,0.125;0.775x0.755)]]\n",
              "Brasília, Taguatinga Norte (Taguatinga) - DDD 61                       [[AxesSubplot(0.125,0.125;0.775x0.755)]]\n",
              "Brasília, Taguatinga Norte - DDD 61                                    [[AxesSubplot(0.125,0.125;0.775x0.755)]]\n",
              "Brasília, Taguatinga Sul (Taguatinga) - DDD 61                         [[AxesSubplot(0.125,0.125;0.775x0.755)]]\n",
              "Brasília, Vila Planalto - DDD 61                                       [[AxesSubplot(0.125,0.125;0.775x0.755)]]\n",
              "Brasília, Zona Industrial (Guará) - DDD 61                             [[AxesSubplot(0.125,0.125;0.775x0.755)]]\n",
              "Brasília, Área de Desenvolvimento Econômico (Águas Claras) - DDD 61    [[AxesSubplot(0.125,0.125;0.775x0.755)]]\n",
              "Luziânia, Centro - DDD 61                                              [[AxesSubplot(0.125,0.125;0.775x0.755)]]\n",
              "Valparaíso de Goiás, Jardim Céu Azul - DDD 61                          [[AxesSubplot(0.125,0.125;0.775x0.755)]]\n",
              "Valparaíso de Goiás, Parque Rio Branco - DDD 61                        [[AxesSubplot(0.125,0.125;0.775x0.755)]]\n",
              "Valparaíso de Goiás, Ypiranga - DDD 61                                 [[AxesSubplot(0.125,0.125;0.775x0.755)]]\n",
              "dtype: object"
            ]
          },
          "metadata": {},
          "execution_count": 172
        },
        {
          "output_type": "display_data",
          "data": {
            "text/plain": [
              "<Figure size 432x288 with 1 Axes>"
            ],
            "image/png": "[encoded data removed]"
          },
          "metadata": {
            "needs_background": "light"
          }
        },
        {
          "output_type": "display_data",
          "data": {
            "text/plain": [
              "<Figure size 432x288 with 1 Axes>"
            ],
            "image/png": "[encoded data removed]"
          },
          "metadata": {
            "needs_background": "light"
          }
        },
        {
          "output_type": "display_data",
          "data": {
            "text/plain": [
              "<Figure size 432x288 with 1 Axes>"
            ],
            "image/png": "[encoded data removed]"
          },
          "metadata": {
            "needs_background": "light"
          }
        },
        {
          "output_type": "display_data",
          "data": {
            "text/plain": [
              "<Figure size 432x288 with 1 Axes>"
            ],
            "image/png": "[encoded data removed]"
          },
          "metadata": {
            "needs_background": "light"
          }
        },
        {
          "output_type": "display_data",
          "data": {
            "text/plain": [
              "<Figure size 432x288 with 1 Axes>"
            ],
            "image/png": "[encoded data removed]"
          },
          "metadata": {
            "needs_background": "light"
          }
        },
        {
          "output_type": "display_data",
          "data": {
            "text/plain": [
              "<Figure size 432x288 with 1 Axes>"
            ],
            "image/png": "[encoded data removed]"
          },
          "metadata": {
            "needs_background": "light"
          }
        },
        {
          "output_type": "display_data",
          "data": {
            "text/plain": [
              "<Figure size 432x288 with 1 Axes>"
            ],
            "image/png": "[encoded data removed]"
          },
          "metadata": {
            "needs_background": "light"
          }
        },
        {
          "output_type": "display_data",
          "data": {
            "text/plain": [
              "<Figure size 432x288 with 1 Axes>"
            ],
            "image/png": "[encoded data removed]"
          },
          "metadata": {
            "needs_background": "light"
          }
        },
        {
          "output_type": "display_data",
          "data": {
            "text/plain": [
              "<Figure size 432x288 with 1 Axes>"
            ],
            "image/png": "[encoded data removed]"
          },
          "metadata": {
            "needs_background": "light"
          }
        },
        {
          "output_type": "display_data",
          "data": {
            "text/plain": [
              "<Figure size 432x288 with 1 Axes>"
            ],
            "image/png": "[encoded data removed]"
          },
          "metadata": {
            "needs_background": "light"
          }
        },
        {
          "output_type": "display_data",
          "data": {
            "text/plain": [
              "<Figure size 432x288 with 1 Axes>"
            ],
            "image/png": "[encoded data removed]"
          },
          "metadata": {
            "needs_background": "light"
          }
        },
        {
          "output_type": "display_data",
          "data": {
            "text/plain": [
              "<Figure size 432x288 with 1 Axes>"
            ],
            "image/png": "[encoded data removed]"
          },
          "metadata": {
            "needs_background": "light"
          }
        },
        {
          "output_type": "display_data",
          "data": {
            "text/plain": [
              "<Figure size 432x288 with 1 Axes>"
            ],
            "image/png": "[encoded data removed]"
          },
          "metadata": {
            "needs_background": "light"
          }
        },
        {
          "output_type": "display_data",
          "data": {
            "text/plain": [
              "<Figure size 432x288 with 1 Axes>"
            ],
            "image/png": "[encoded data removed]"
          },
          "metadata": {
            "needs_background": "light"
          }
        },
        {
          "output_type": "display_data",
          "data": {
            "text/plain": [
              "<Figure size 432x288 with 1 Axes>"
            ],
            "image/png": "[encoded data removed]"
          },
          "metadata": {
            "needs_background": "light"
          }
        },
        {
          "output_type": "display_data",
          "data": {
            "text/plain": [
              "<Figure size 432x288 with 1 Axes>"
            ],
            "image/png": "[encoded data removed]"
          },
          "metadata": {
            "needs_background": "light"
          }
        },
        {
          "output_type": "display_data",
          "data": {
            "text/plain": [
              "<Figure size 432x288 with 1 Axes>"
            ],
            "image/png": "[encoded data removed]"
          },
          "metadata": {
            "needs_background": "light"
          }
        },
        {
          "output_type": "display_data",
          "data": {
            "text/plain": [
              "<Figure size 432x288 with 1 Axes>"
            ],
            "image/png": "[encoded data removed]"
          },
          "metadata": {
            "needs_background": "light"
          }
        },
        {
          "output_type": "display_data",
          "data": {
            "text/plain": [
              "<Figure size 432x288 with 1 Axes>"
            ],
            "image/png": "[encoded data removed]"
          },
          "metadata": {
            "needs_background": "light"
          }
        },
        {
          "output_type": "display_data",
          "data": {
            "text/plain": [
              "<Figure size 432x288 with 1 Axes>"
            ],
            "image/png": "[encoded data removed]"
          },
          "metadata": {
            "needs_background": "light"
          }
        },
        {
          "output_type": "display_data",
          "data": {
            "text/plain": [
              "<Figure size 432x288 with 1 Axes>"
            ],
            "image/png": "[encoded data removed]"
          },
          "metadata": {
            "needs_background": "light"
          }
        },
        {
          "output_type": "display_data",
          "data": {
            "text/plain": [
              "<Figure size 432x288 with 1 Axes>"
            ],
            "image/png": "[encoded data removed]"
          },
          "metadata": {
            "needs_background": "light"
          }
        },
        {
          "output_type": "display_data",
          "data": {
            "text/plain": [
              "<Figure size 432x288 with 1 Axes>"
            ],
            "image/png": "[encoded data removed]"
          },
          "metadata": {
            "needs_background": "light"
          }
        },
        {
          "output_type": "display_data",
          "data": {
            "text/plain": [
              "<Figure size 432x288 with 1 Axes>"
            ],
            "image/png": "[encoded data removed]"
          },
          "metadata": {
            "needs_background": "light"
          }
        },
        {
          "output_type": "display_data",
          "data": {
            "text/plain": [
              "<Figure size 432x288 with 1 Axes>"
            ],
            "image/png": "[encoded data removed]"
          },
          "metadata": {
            "needs_background": "light"
          }
        },
        {
          "output_type": "display_data",
          "data": {
            "text/plain": [
              "<Figure size 432x288 with 1 Axes>"
            ],
            "image/png": "[encoded data removed]"
          },
          "metadata": {
            "needs_background": "light"
          }
        },
        {
          "output_type": "display_data",
          "data": {
            "text/plain": [
              "<Figure size 432x288 with 1 Axes>"
            ],
            "image/png": "[encoded data removed]"
          },
          "metadata": {
            "needs_background": "light"
          }
        },
        {
          "output_type": "display_data",
          "data": {
            "text/plain": [
              "<Figure size 432x288 with 1 Axes>"
            ],
            "image/png": "[encoded data removed]"
          },
          "metadata": {
            "needs_background": "light"
          }
        }
      ]
    },
    {
      "cell_type": "code",
      "source": [
        "group1.groupby('localização').describe()"
      ],
      "metadata": {
        "colab": {
          "base_uri": "https://localhost:8080/",
          "height": 990
        },
        "id": "_BPcnbOEK06H",
        "outputId": "d0283398-a22f-45fd-e180-89cc604109f9"
      },
      "execution_count": null,
      "outputs": [
        {
          "output_type": "execute_result",
          "data": {
            "text/plain": [
              "                                                   valor total               \\\n",
              "                                                         count         mean   \n",
              "localização                                                                   \n",
              "Brasília, Asa Norte - DDD 61                               9.0  1964.000000   \n",
              "Brasília, Asa Sul - DDD 61                                 3.0  1243.333333   \n",
              "Brasília, Candangolândia - DDD 61                          3.0   232.333333   \n",
              "Brasília, Ceilândia Norte (Ceilândia) - DDD 61             5.0   633.400000   \n",
              "Brasília, Ceilândia Sul (Ceilândia) - DDD 61               5.0   841.200000   \n",
              "Brasília, Guará II - DDD 61                                6.0  1325.666667   \n",
              "Brasília, Jardins Mangueiral (Jardim Botânico) ...         3.0  3535.666667   \n",
              "Brasília, Norte (Águas Claras) - DDD 61                    5.0  2877.600000   \n",
              "Brasília, Riacho Fundo II - DDD 61                         5.0  1454.000000   \n",
              "Brasília, Samambaia Norte (Samambaia) - DDD 61             1.0  1148.000000   \n",
              "Brasília, Samambaia Sul (Samambaia) - DDD 61               3.0  1312.666667   \n",
              "Brasília, Santa Maria - DDD 61                             3.0   741.000000   \n",
              "Brasília, Setor Habitacional Vicente Pires - Tr...         2.0  7949.500000   \n",
              "Brasília, Setor Noroeste - DDD 61                          4.0  8767.750000   \n",
              "Brasília, Setor Sudoeste - DDD 61                         16.0  2222.062500   \n",
              "Brasília, Sobradinho - DDD 61                              7.0  3023.714286   \n",
              "Brasília, Sul (Águas Claras) - DDD 61                      6.0  5821.500000   \n",
              "Brasília, Taguatinga Centro (Taguatinga) - DDD 61          2.0  1314.500000   \n",
              "Brasília, Taguatinga Norte (Taguatinga) - DDD 61          12.0  1263.750000   \n",
              "Brasília, Taguatinga Norte - DDD 61                        2.0  3024.500000   \n",
              "Brasília, Taguatinga Sul (Taguatinga) - DDD 61             7.0  1926.857143   \n",
              "Brasília, Vila Planalto - DDD 61                           6.0  2212.500000   \n",
              "Brasília, Zona Industrial (Guará) - DDD 61                 2.0  6782.500000   \n",
              "Brasília, Área de Desenvolvimento Econômico (Ág...         3.0   791.333333   \n",
              "Luziânia, Centro - DDD 61                                  5.0   765.000000   \n",
              "Valparaíso de Goiás, Jardim Céu Azul - DDD 61              5.0   742.200000   \n",
              "Valparaíso de Goiás, Parque Rio Branco - DDD 61            1.0   801.000000   \n",
              "Valparaíso de Goiás, Ypiranga - DDD 61                     7.0   727.428571   \n",
              "\n",
              "                                                                         \\\n",
              "                                                            std     min   \n",
              "localização                                                               \n",
              "Brasília, Asa Norte - DDD 61                         652.853927  1385.0   \n",
              "Brasília, Asa Sul - DDD 61                            23.288051  1227.0   \n",
              "Brasília, Candangolândia - DDD 61                    214.486208   108.0   \n",
              "Brasília, Ceilândia Norte (Ceilândia) - DDD 61        18.036075   605.0   \n",
              "Brasília, Ceilândia Sul (Ceilândia) - DDD 61         124.278719   690.0   \n",
              "Brasília, Guará II - DDD 61                          340.669145   975.0   \n",
              "Brasília, Jardins Mangueiral (Jardim Botânico) ...    10.263203  3527.0   \n",
              "Brasília, Norte (Águas Claras) - DDD 61              735.355900  2075.0   \n",
              "Brasília, Riacho Fundo II - DDD 61                   133.107100  1365.0   \n",
              "Brasília, Samambaia Norte (Samambaia) - DDD 61              NaN  1148.0   \n",
              "Brasília, Samambaia Sul (Samambaia) - DDD 61         115.179570  1235.0   \n",
              "Brasília, Santa Maria - DDD 61                        28.160256   710.0   \n",
              "Brasília, Setor Habitacional Vicente Pires - Tr...    55.861436  7910.0   \n",
              "Brasília, Setor Noroeste - DDD 61                     12.841988  8755.0   \n",
              "Brasília, Setor Sudoeste - DDD 61                    504.496775  1800.0   \n",
              "Brasília, Sobradinho - DDD 61                        992.695105  1548.0   \n",
              "Brasília, Sul (Águas Claras) - DDD 61               3423.021399  1380.0   \n",
              "Brasília, Taguatinga Centro (Taguatinga) - DDD 61    262.336616  1129.0   \n",
              "Brasília, Taguatinga Norte (Taguatinga) - DDD 61     274.859013   575.0   \n",
              "Brasília, Taguatinga Norte - DDD 61                   34.648232  3000.0   \n",
              "Brasília, Taguatinga Sul (Taguatinga) - DDD 61       382.668015  1340.0   \n",
              "Brasília, Vila Planalto - DDD 61                     116.904662  2154.0   \n",
              "Brasília, Zona Industrial (Guará) - DDD 61            81.317280  6725.0   \n",
              "Brasília, Área de Desenvolvimento Econômico (Ág...    41.956326   760.0   \n",
              "Luziânia, Centro - DDD 61                             12.708265   754.0   \n",
              "Valparaíso de Goiás, Jardim Céu Azul - DDD 61         18.130085   727.0   \n",
              "Valparaíso de Goiás, Parque Rio Branco - DDD 61             NaN   801.0   \n",
              "Valparaíso de Goiás, Ypiranga - DDD 61               104.150303   654.0   \n",
              "\n",
              "                                                                              \\\n",
              "                                                        25%     50%      75%   \n",
              "localização                                                                    \n",
              "Brasília, Asa Norte - DDD 61                        1500.00  1640.0  2051.00   \n",
              "Brasília, Asa Sul - DDD 61                          1230.00  1233.0  1251.50   \n",
              "Brasília, Candangolândia - DDD 61                    108.50   109.0   294.50   \n",
              "Brasília, Ceilândia Norte (Ceilândia) - DDD 61       627.00   640.0   645.00   \n",
              "Brasília, Ceilândia Sul (Ceilândia) - DDD 61         748.00   840.0   958.00   \n",
              "Brasília, Guará II - DDD 61                         1023.25  1319.0  1587.00   \n",
              "Brasília, Jardins Mangueiral (Jardim Botânico) ...  3530.00  3533.0  3540.00   \n",
              "Brasília, Norte (Águas Claras) - DDD 61             2090.00  3304.0  3319.00   \n",
              "Brasília, Riacho Fundo II - DDD 61                  1400.00  1405.0  1410.00   \n",
              "Brasília, Samambaia Norte (Samambaia) - DDD 61      1148.00  1148.0  1148.00   \n",
              "Brasília, Samambaia Sul (Samambaia) - DDD 61        1246.50  1258.0  1351.50   \n",
              "Brasília, Santa Maria - DDD 61                       729.00   748.0   756.50   \n",
              "Brasília, Setor Habitacional Vicente Pires - Tr...  7929.75  7949.5  7969.25   \n",
              "Brasília, Setor Noroeste - DDD 61                   8760.25  8765.5  8773.00   \n",
              "Brasília, Setor Sudoeste - DDD 61                   1832.50  1854.0  2822.50   \n",
              "Brasília, Sobradinho - DDD 61                       2567.50  3570.0  3584.00   \n",
              "Brasília, Sul (Águas Claras) - DDD 61               3068.75  8012.5  8043.00   \n",
              "Brasília, Taguatinga Centro (Taguatinga) - DDD 61   1221.75  1314.5  1407.25   \n",
              "Brasília, Taguatinga Norte (Taguatinga) - DDD 61    1326.50  1358.5  1381.25   \n",
              "Brasília, Taguatinga Norte - DDD 61                 3012.25  3024.5  3036.75   \n",
              "Brasília, Taguatinga Sul (Taguatinga) - DDD 61      1754.00  2127.0  2153.50   \n",
              "Brasília, Vila Planalto - DDD 61                    2156.75  2165.5  2181.00   \n",
              "Brasília, Zona Industrial (Guará) - DDD 61          6753.75  6782.5  6811.25   \n",
              "Brasília, Área de Desenvolvimento Econômico (Ág...   767.50   775.0   807.00   \n",
              "Luziânia, Centro - DDD 61                            755.00   762.0   769.00   \n",
              "Valparaíso de Goiás, Jardim Céu Azul - DDD 61        730.00   733.0   751.00   \n",
              "Valparaíso de Goiás, Parque Rio Branco - DDD 61      801.00   801.0   801.00   \n",
              "Valparaíso de Goiás, Ypiranga - DDD 61               662.50   690.0   736.50   \n",
              "\n",
              "                                                            \n",
              "                                                       max  \n",
              "localização                                                 \n",
              "Brasília, Asa Norte - DDD 61                        3050.0  \n",
              "Brasília, Asa Sul - DDD 61                          1270.0  \n",
              "Brasília, Candangolândia - DDD 61                    480.0  \n",
              "Brasília, Ceilândia Norte (Ceilândia) - DDD 61       650.0  \n",
              "Brasília, Ceilândia Sul (Ceilândia) - DDD 61         970.0  \n",
              "Brasília, Guará II - DDD 61                         1740.0  \n",
              "Brasília, Jardins Mangueiral (Jardim Botânico) ...  3547.0  \n",
              "Brasília, Norte (Águas Claras) - DDD 61             3600.0  \n",
              "Brasília, Riacho Fundo II - DDD 61                  1690.0  \n",
              "Brasília, Samambaia Norte (Samambaia) - DDD 61      1148.0  \n",
              "Brasília, Samambaia Sul (Samambaia) - DDD 61        1445.0  \n",
              "Brasília, Santa Maria - DDD 61                       765.0  \n",
              "Brasília, Setor Habitacional Vicente Pires - Tr...  7989.0  \n",
              "Brasília, Setor Noroeste - DDD 61                   8785.0  \n",
              "Brasília, Setor Sudoeste - DDD 61                   2995.0  \n",
              "Brasília, Sobradinho - DDD 61                       3745.0  \n",
              "Brasília, Sul (Águas Claras) - DDD 61               8050.0  \n",
              "Brasília, Taguatinga Centro (Taguatinga) - DDD 61   1500.0  \n",
              "Brasília, Taguatinga Norte (Taguatinga) - DDD 61    1545.0  \n",
              "Brasília, Taguatinga Norte - DDD 61                 3049.0  \n",
              "Brasília, Taguatinga Sul (Taguatinga) - DDD 61      2206.0  \n",
              "Brasília, Vila Planalto - DDD 61                    2450.0  \n",
              "Brasília, Zona Industrial (Guará) - DDD 61          6840.0  \n",
              "Brasília, Área de Desenvolvimento Econômico (Ág...   839.0  \n",
              "Luziânia, Centro - DDD 61                            785.0  \n",
              "Valparaíso de Goiás, Jardim Céu Azul - DDD 61        770.0  \n",
              "Valparaíso de Goiás, Parque Rio Branco - DDD 61      801.0  \n",
              "Valparaíso de Goiás, Ypiranga - DDD 61               950.0  "
            ],
            "text/html": [
              "\n",
              "  <div id=\"df-27a06595-3f42-4413-bfe4-053081d9df32\">\n",
              "    <div class=\"colab-df-container\">\n",
              "      <div>\n",
              "<style scoped>\n",
              "    .dataframe tbody tr th:only-of-type {\n",
              "        vertical-align: middle;\n",
              "    }\n",
              "\n",
              "    .dataframe tbody tr th {\n",
              "        vertical-align: top;\n",
              "    }\n",
              "\n",
              "    .dataframe thead tr th {\n",
              "        text-align: left;\n",
              "    }\n",
              "\n",
              "    .dataframe thead tr:last-of-type th {\n",
              "        text-align: right;\n",
              "    }\n",
              "</style>\n",
              "<table border=\"1\" class=\"dataframe\">\n",
              "  <thead>\n",
              "    <tr>\n",
              "      <th></th>\n",
              "      <th colspan=\"8\" halign=\"left\">valor total</th>\n",
              "    </tr>\n",
              "    <tr>\n",
              "      <th></th>\n",
              "      <th>count</th>\n",
              "      <th>mean</th>\n",
              "      <th>std</th>\n",
              "      <th>min</th>\n",
              "      <th>25%</th>\n",
              "      <th>50%</th>\n",
              "      <th>75%</th>\n",
              "      <th>max</th>\n",
              "    </tr>\n",
              "    <tr>\n",
              "      <th>localização</th>\n",
              "      <th></th>\n",
              "      <th></th>\n",
              "      <th></th>\n",
              "      <th></th>\n",
              "      <th></th>\n",
              "      <th></th>\n",
              "      <th></th>\n",
              "      <th></th>\n",
              "    </tr>\n",
              "  </thead>\n",
              "  <tbody>\n",
              "    <tr>\n",
              "      <th>Brasília, Asa Norte - DDD 61</th>\n",
              "      <td>9.0</td>\n",
              "      <td>1964.000000</td>\n",
              "      <td>652.853927</td>\n",
              "      <td>1385.0</td>\n",
              "      <td>1500.00</td>\n",
              "      <td>1640.0</td>\n",
              "      <td>2051.00</td>\n",
              "      <td>3050.0</td>\n",
              "    </tr>\n",
              "    <tr>\n",
              "      <th>Brasília, Asa Sul - DDD 61</th>\n",
              "      <td>3.0</td>\n",
              "      <td>1243.333333</td>\n",
              "      <td>23.288051</td>\n",
              "      <td>1227.0</td>\n",
              "      <td>1230.00</td>\n",
              "      <td>1233.0</td>\n",
              "      <td>1251.50</td>\n",
              "      <td>1270.0</td>\n",
              "    </tr>\n",
              "    <tr>\n",
              "      <th>Brasília, Candangolândia - DDD 61</th>\n",
              "      <td>3.0</td>\n",
              "      <td>232.333333</td>\n",
              "      <td>214.486208</td>\n",
              "      <td>108.0</td>\n",
              "      <td>108.50</td>\n",
              "      <td>109.0</td>\n",
              "      <td>294.50</td>\n",
              "      <td>480.0</td>\n",
              "    </tr>\n",
              "    <tr>\n",
              "      <th>Brasília, Ceilândia Norte (Ceilândia) - DDD 61</th>\n",
              "      <td>5.0</td>\n",
              "      <td>633.400000</td>\n",
              "      <td>18.036075</td>\n",
              "      <td>605.0</td>\n",
              "      <td>627.00</td>\n",
              "      <td>640.0</td>\n",
              "      <td>645.00</td>\n",
              "      <td>650.0</td>\n",
              "    </tr>\n",
              "    <tr>\n",
              "      <th>Brasília, Ceilândia Sul (Ceilândia) - DDD 61</th>\n",
              "      <td>5.0</td>\n",
              "      <td>841.200000</td>\n",
              "      <td>124.278719</td>\n",
              "      <td>690.0</td>\n",
              "      <td>748.00</td>\n",
              "      <td>840.0</td>\n",
              "      <td>958.00</td>\n",
              "      <td>970.0</td>\n",
              "    </tr>\n",
              "    <tr>\n",
              "      <th>Brasília, Guará II - DDD 61</th>\n",
              "      <td>6.0</td>\n",
              "      <td>1325.666667</td>\n",
              "      <td>340.669145</td>\n",
              "      <td>975.0</td>\n",
              "      <td>1023.25</td>\n",
              "      <td>1319.0</td>\n",
              "      <td>1587.00</td>\n",
              "      <td>1740.0</td>\n",
              "    </tr>\n",
              "    <tr>\n",
              "      <th>Brasília, Jardins Mangueiral (Jardim Botânico) - DDD 61</th>\n",
              "      <td>3.0</td>\n",
              "      <td>3535.666667</td>\n",
              "      <td>10.263203</td>\n",
              "      <td>3527.0</td>\n",
              "      <td>3530.00</td>\n",
              "      <td>3533.0</td>\n",
              "      <td>3540.00</td>\n",
              "      <td>3547.0</td>\n",
              "    </tr>\n",
              "    <tr>\n",
              "      <th>Brasília, Norte (Águas Claras) - DDD 61</th>\n",
              "      <td>5.0</td>\n",
              "      <td>2877.600000</td>\n",
              "      <td>735.355900</td>\n",
              "      <td>2075.0</td>\n",
              "      <td>2090.00</td>\n",
              "      <td>3304.0</td>\n",
              "      <td>3319.00</td>\n",
              "      <td>3600.0</td>\n",
              "    </tr>\n",
              "    <tr>\n",
              "      <th>Brasília, Riacho Fundo II - DDD 61</th>\n",
              "      <td>5.0</td>\n",
              "      <td>1454.000000</td>\n",
              "      <td>133.107100</td>\n",
              "      <td>1365.0</td>\n",
              "      <td>1400.00</td>\n",
              "      <td>1405.0</td>\n",
              "      <td>1410.00</td>\n",
              "      <td>1690.0</td>\n",
              "    </tr>\n",
              "    <tr>\n",
              "      <th>Brasília, Samambaia Norte (Samambaia) - DDD 61</th>\n",
              "      <td>1.0</td>\n",
              "      <td>1148.000000</td>\n",
              "      <td>NaN</td>\n",
              "      <td>1148.0</td>\n",
              "      <td>1148.00</td>\n",
              "      <td>1148.0</td>\n",
              "      <td>1148.00</td>\n",
              "      <td>1148.0</td>\n",
              "    </tr>\n",
              "    <tr>\n",
              "      <th>Brasília, Samambaia Sul (Samambaia) - DDD 61</th>\n",
              "      <td>3.0</td>\n",
              "      <td>1312.666667</td>\n",
              "      <td>115.179570</td>\n",
              "      <td>1235.0</td>\n",
              "      <td>1246.50</td>\n",
              "      <td>1258.0</td>\n",
              "      <td>1351.50</td>\n",
              "      <td>1445.0</td>\n",
              "    </tr>\n",
              "    <tr>\n",
              "      <th>Brasília, Santa Maria - DDD 61</th>\n",
              "      <td>3.0</td>\n",
              "      <td>741.000000</td>\n",
              "      <td>28.160256</td>\n",
              "      <td>710.0</td>\n",
              "      <td>729.00</td>\n",
              "      <td>748.0</td>\n",
              "      <td>756.50</td>\n",
              "      <td>765.0</td>\n",
              "    </tr>\n",
              "    <tr>\n",
              "      <th>Brasília, Setor Habitacional Vicente Pires - Trecho 1 - DDD 61</th>\n",
              "      <td>2.0</td>\n",
              "      <td>7949.500000</td>\n",
              "      <td>55.861436</td>\n",
              "      <td>7910.0</td>\n",
              "      <td>7929.75</td>\n",
              "      <td>7949.5</td>\n",
              "      <td>7969.25</td>\n",
              "      <td>7989.0</td>\n",
              "    </tr>\n",
              "    <tr>\n",
              "      <th>Brasília, Setor Noroeste - DDD 61</th>\n",
              "      <td>4.0</td>\n",
              "      <td>8767.750000</td>\n",
              "      <td>12.841988</td>\n",
              "      <td>8755.0</td>\n",
              "      <td>8760.25</td>\n",
              "      <td>8765.5</td>\n",
              "      <td>8773.00</td>\n",
              "      <td>8785.0</td>\n",
              "    </tr>\n",
              "    <tr>\n",
              "      <th>Brasília, Setor Sudoeste - DDD 61</th>\n",
              "      <td>16.0</td>\n",
              "      <td>2222.062500</td>\n",
              "      <td>504.496775</td>\n",
              "      <td>1800.0</td>\n",
              "      <td>1832.50</td>\n",
              "      <td>1854.0</td>\n",
              "      <td>2822.50</td>\n",
              "      <td>2995.0</td>\n",
              "    </tr>\n",
              "    <tr>\n",
              "      <th>Brasília, Sobradinho - DDD 61</th>\n",
              "      <td>7.0</td>\n",
              "      <td>3023.714286</td>\n",
              "      <td>992.695105</td>\n",
              "      <td>1548.0</td>\n",
              "      <td>2567.50</td>\n",
              "      <td>3570.0</td>\n",
              "      <td>3584.00</td>\n",
              "      <td>3745.0</td>\n",
              "    </tr>\n",
              "    <tr>\n",
              "      <th>Brasília, Sul (Águas Claras) - DDD 61</th>\n",
              "      <td>6.0</td>\n",
              "      <td>5821.500000</td>\n",
              "      <td>3423.021399</td>\n",
              "      <td>1380.0</td>\n",
              "      <td>3068.75</td>\n",
              "      <td>8012.5</td>\n",
              "      <td>8043.00</td>\n",
              "      <td>8050.0</td>\n",
              "    </tr>\n",
              "    <tr>\n",
              "      <th>Brasília, Taguatinga Centro (Taguatinga) - DDD 61</th>\n",
              "      <td>2.0</td>\n",
              "      <td>1314.500000</td>\n",
              "      <td>262.336616</td>\n",
              "      <td>1129.0</td>\n",
              "      <td>1221.75</td>\n",
              "      <td>1314.5</td>\n",
              "      <td>1407.25</td>\n",
              "      <td>1500.0</td>\n",
              "    </tr>\n",
              "    <tr>\n",
              "      <th>Brasília, Taguatinga Norte (Taguatinga) - DDD 61</th>\n",
              "      <td>12.0</td>\n",
              "      <td>1263.750000</td>\n",
              "      <td>274.859013</td>\n",
              "      <td>575.0</td>\n",
              "      <td>1326.50</td>\n",
              "      <td>1358.5</td>\n",
              "      <td>1381.25</td>\n",
              "      <td>1545.0</td>\n",
              "    </tr>\n",
              "    <tr>\n",
              "      <th>Brasília, Taguatinga Norte - DDD 61</th>\n",
              "      <td>2.0</td>\n",
              "      <td>3024.500000</td>\n",
              "      <td>34.648232</td>\n",
              "      <td>3000.0</td>\n",
              "      <td>3012.25</td>\n",
              "      <td>3024.5</td>\n",
              "      <td>3036.75</td>\n",
              "      <td>3049.0</td>\n",
              "    </tr>\n",
              "    <tr>\n",
              "      <th>Brasília, Taguatinga Sul (Taguatinga) - DDD 61</th>\n",
              "      <td>7.0</td>\n",
              "      <td>1926.857143</td>\n",
              "      <td>382.668015</td>\n",
              "      <td>1340.0</td>\n",
              "      <td>1754.00</td>\n",
              "      <td>2127.0</td>\n",
              "      <td>2153.50</td>\n",
              "      <td>2206.0</td>\n",
              "    </tr>\n",
              "    <tr>\n",
              "      <th>Brasília, Vila Planalto - DDD 61</th>\n",
              "      <td>6.0</td>\n",
              "      <td>2212.500000</td>\n",
              "      <td>116.904662</td>\n",
              "      <td>2154.0</td>\n",
              "      <td>2156.75</td>\n",
              "      <td>2165.5</td>\n",
              "      <td>2181.00</td>\n",
              "      <td>2450.0</td>\n",
              "    </tr>\n",
              "    <tr>\n",
              "      <th>Brasília, Zona Industrial (Guará) - DDD 61</th>\n",
              "      <td>2.0</td>\n",
              "      <td>6782.500000</td>\n",
              "      <td>81.317280</td>\n",
              "      <td>6725.0</td>\n",
              "      <td>6753.75</td>\n",
              "      <td>6782.5</td>\n",
              "      <td>6811.25</td>\n",
              "      <td>6840.0</td>\n",
              "    </tr>\n",
              "    <tr>\n",
              "      <th>Brasília, Área de Desenvolvimento Econômico (Águas Claras) - DDD 61</th>\n",
              "      <td>3.0</td>\n",
              "      <td>791.333333</td>\n",
              "      <td>41.956326</td>\n",
              "      <td>760.0</td>\n",
              "      <td>767.50</td>\n",
              "      <td>775.0</td>\n",
              "      <td>807.00</td>\n",
              "      <td>839.0</td>\n",
              "    </tr>\n",
              "    <tr>\n",
              "      <th>Luziânia, Centro - DDD 61</th>\n",
              "      <td>5.0</td>\n",
              "      <td>765.000000</td>\n",
              "      <td>12.708265</td>\n",
              "      <td>754.0</td>\n",
              "      <td>755.00</td>\n",
              "      <td>762.0</td>\n",
              "      <td>769.00</td>\n",
              "      <td>785.0</td>\n",
              "    </tr>\n",
              "    <tr>\n",
              "      <th>Valparaíso de Goiás, Jardim Céu Azul - DDD 61</th>\n",
              "      <td>5.0</td>\n",
              "      <td>742.200000</td>\n",
              "      <td>18.130085</td>\n",
              "      <td>727.0</td>\n",
              "      <td>730.00</td>\n",
              "      <td>733.0</td>\n",
              "      <td>751.00</td>\n",
              "      <td>770.0</td>\n",
              "    </tr>\n",
              "    <tr>\n",
              "      <th>Valparaíso de Goiás, Parque Rio Branco - DDD 61</th>\n",
              "      <td>1.0</td>\n",
              "      <td>801.000000</td>\n",
              "      <td>NaN</td>\n",
              "      <td>801.0</td>\n",
              "      <td>801.00</td>\n",
              "      <td>801.0</td>\n",
              "      <td>801.00</td>\n",
              "      <td>801.0</td>\n",
              "    </tr>\n",
              "    <tr>\n",
              "      <th>Valparaíso de Goiás, Ypiranga - DDD 61</th>\n",
              "      <td>7.0</td>\n",
              "      <td>727.428571</td>\n",
              "      <td>104.150303</td>\n",
              "      <td>654.0</td>\n",
              "      <td>662.50</td>\n",
              "      <td>690.0</td>\n",
              "      <td>736.50</td>\n",
              "      <td>950.0</td>\n",
              "    </tr>\n",
              "  </tbody>\n",
              "</table>\n",
              "</div>\n",
              "      <button class=\"colab-df-convert\" onclick=\"convertToInteractive('df-27a06595-3f42-4413-bfe4-053081d9df32')\"\n",
              "              title=\"Convert this dataframe to an interactive table.\"\n",
              "              style=\"display:none;\">\n",
              "        \n",
              "  <svg xmlns=\"http://www.w3.org/2000/svg\" height=\"24px\"viewBox=\"0 0 24 24\"\n",
              "       width=\"24px\">\n",
              "    <path d=\"M0 0h24v24H0V0z\" fill=\"none\"/>\n",
              "    <path d=\"M18.56 5.44l.94 2.06.94-2.06 2.06-.94-2.06-.94-.94-2.06-.94 2.06-2.06.94zm-11 1L8.5 8.5l.94-2.06 2.06-.94-2.06-.94L8.5 2.5l-.94 2.06-2.06.94zm10 10l.94 2.06.94-2.06 2.06-.94-2.06-.94-.94-2.06-.94 2.06-2.06.94z\"/><path d=\"M17.41 7.96l-1.37-1.37c-.4-.4-.92-.59-1.43-.59-.52 0-1.04.2-1.43.59L10.3 9.45l-7.72 7.72c-.78.78-.78 2.05 0 2.83L4 21.41c.39.39.9.59 1.41.59.51 0 1.02-.2 1.41-.59l7.78-7.78 2.81-2.81c.8-.78.8-2.07 0-2.86zM5.41 20L4 18.59l7.72-7.72 1.47 1.35L5.41 20z\"/>\n",
              "  </svg>\n",
              "      </button>\n",
              "      \n",
              "  <style>\n",
              "    .colab-df-container {\n",
              "      display:flex;\n",
              "      flex-wrap:wrap;\n",
              "      gap: 12px;\n",
              "    }\n",
              "\n",
              "    .colab-df-convert {\n",
              "      background-color: #E8F0FE;\n",
              "      border: none;\n",
              "      border-radius: 50%;\n",
              "      cursor: pointer;\n",
              "      display: none;\n",
              "      fill: #1967D2;\n",
              "      height: 32px;\n",
              "      padding: 0 0 0 0;\n",
              "      width: 32px;\n",
              "    }\n",
              "\n",
              "    .colab-df-convert:hover {\n",
              "      background-color: #E2EBFA;\n",
              "      box-shadow: 0px 1px 2px rgba(60, 64, 67, 0.3), 0px 1px 3px 1px rgba(60, 64, 67, 0.15);\n",
              "      fill: #174EA6;\n",
              "    }\n",
              "\n",
              "    [theme=dark] .colab-df-convert {\n",
              "      background-color: #3B4455;\n",
              "      fill: #D2E3FC;\n",
              "    }\n",
              "\n",
              "    [theme=dark] .colab-df-convert:hover {\n",
              "      background-color: #434B5C;\n",
              "      box-shadow: 0px 1px 3px 1px rgba(0, 0, 0, 0.15);\n",
              "      filter: drop-shadow(0px 1px 2px rgba(0, 0, 0, 0.3));\n",
              "      fill: #FFFFFF;\n",
              "    }\n",
              "  </style>\n",
              "\n",
              "      <script>\n",
              "        const buttonEl =\n",
              "          document.querySelector('#df-27a06595-3f42-4413-bfe4-053081d9df32 button.colab-df-convert');\n",
              "        buttonEl.style.display =\n",
              "          google.colab.kernel.accessAllowed ? 'block' : 'none';\n",
              "\n",
              "        async function convertToInteractive(key) {\n",
              "          const element = document.querySelector('#df-27a06595-3f42-4413-bfe4-053081d9df32');\n",
              "          const dataTable =\n",
              "            await google.colab.kernel.invokeFunction('convertToInteractive',\n",
              "                                                     [key], {});\n",
              "          if (!dataTable) return;\n",
              "\n",
              "          const docLinkHtml = 'Like what you see? Visit the ' +\n",
              "            '<a target=\"_blank\" href=https://colab.research.google.com/notebooks/data_table.ipynb>data table notebook</a>'\n",
              "            + ' to learn more about interactive tables.';\n",
              "          element.innerHTML = '';\n",
              "          dataTable['output_type'] = 'display_data';\n",
              "          await google.colab.output.renderOutput(dataTable, element);\n",
              "          const docLink = document.createElement('div');\n",
              "          docLink.innerHTML = docLinkHtml;\n",
              "          element.appendChild(docLink);\n",
              "        }\n",
              "      </script>\n",
              "    </div>\n",
              "  </div>\n",
              "  "
            ]
          },
          "metadata": {},
          "execution_count": 171
        }
      ]
    },
    {
      "cell_type": "code",
      "source": [],
      "metadata": {
        "id": "xj0S1U2nLiB9"
      },
      "execution_count": null,
      "outputs": []
    }
  ]
}